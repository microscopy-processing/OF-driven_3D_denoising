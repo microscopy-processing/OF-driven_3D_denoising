{
  "cells": [
    {
      "cell_type": "markdown",
      "metadata": {
        "id": "YZDoj5Vq8BT7"
      },
      "source": [
        "# 3D Low pass filtering OF-driven\n",
        "\n",
        "In a tomogram, compute the OF between adjacent slices and apply a low pass filtering in each cartesian direction, conducted by the motion vectors. The process is repeated until convergence (energy of the modification of the tomogram smaller than a threshold).\n",
        "\n",
        "In each direction, the i-th slice is warped to an OF-compensated i-th sliced that is averaged with the (i+1)-th slice, initialized with the pixels of the (i+1)-th slice. The resulting slice replaces the (i+1)-th one, resulting in that all the slices except the first one will be filtered. Then, the process is repeated in the oposite direction."
      ]
    },
    {
      "cell_type": "code",
      "execution_count": null,
      "metadata": {
        "id": "3VUOCSUshKL8"
      },
      "outputs": [],
      "source": [
        "!pip install mrcfile\n",
        "import mrcfile\n",
        "import numpy as np\n",
        "import matplotlib.pyplot as plt\n",
        "%matplotlib inline\n",
        "#%matplotlib notebook\n",
        "from ipywidgets import *\n",
        "import cv2\n",
        "from google.colab.patches import cv2_imshow\n",
        "import math"
      ]
    },
    {
      "cell_type": "code",
      "execution_count": null,
      "metadata": {
        "id": "DOBXPtA8idgY"
      },
      "outputs": [],
      "source": [
        "# Mount Google Drive.\n",
        "from google.colab import drive\n",
        "drive.mount('/content/drive')"
      ]
    },
    {
      "cell_type": "markdown",
      "metadata": {
        "id": "SxvNK3Zz5phk"
      },
      "source": [
        "## Configuration"
      ]
    },
    {
      "cell_type": "code",
      "execution_count": null,
      "metadata": {
        "id": "TwTzpTchT-cQ"
      },
      "outputs": [],
      "source": [
        "tomogram_name = \"epfl1_subset1\"\n",
        "max_iterations = 5 # Maximum number of iterations\n",
        "w = 3              # Window size used in Farneback\n",
        "l = 2              # Number of levels used in Farneback"
      ]
    },
    {
      "cell_type": "code",
      "execution_count": null,
      "metadata": {
        "id": "a6MycjQVigju"
      },
      "outputs": [],
      "source": [
        "!cp drive/Shareddrives/MissingWedge/tomograms/{tomogram_name}.mrc ."
      ]
    },
    {
      "cell_type": "code",
      "execution_count": null,
      "metadata": {
        "id": "mw8rHTokNTCl"
      },
      "outputs": [],
      "source": [
        "ofca_extension_mode = cv2.BORDER_REPLICATE\n",
        "\n",
        "def make_prediction(reference: np.ndarray, MVs: np.ndarray) -> np.ndarray:\n",
        "    height, width = MVs.shape[:2]\n",
        "    map_x = np.tile(np.arange(width), (height, 1))\n",
        "    map_y = np.swapaxes(np.tile(np.arange(height), (width, 1)), 0, 1)\n",
        "    map_xy = (MVs + np.dstack((map_x, map_y))).astype('float32')\n",
        "    return cv2.remap(reference, map_xy, None, interpolation=cv2.INTER_LINEAR, borderMode=ofca_extension_mode)\n",
        "\n",
        "def x_x1(tomogram, w=5, l=3):\n",
        "  print(\"x -> x+1\", end=' ')\n",
        "  x_x1_tomogram = np.zeros_like(tomogram).astype(np.float64)\n",
        "  for x in range(tomogram.shape[2] - 1):\n",
        "    #print(f\"x_x1 {x}/{tomogram.shape[2] - 1}\", end='', flush=True)\n",
        "    print('.', end='')\n",
        "    slice_x = tomogram[:,:,x].astype(np.float64)\n",
        "    slice_x1 = tomogram[:,:,x + 1].astype(np.float64)\n",
        "    flow = cv2.calcOpticalFlowFarneback(prev=slice_x1, next=slice_x, flow=None, pyr_scale=0.5, levels=l, winsize=w, iterations=3, poly_n=5, poly_sigma=1.2, flags=0)\n",
        "    prediction_x1 = make_prediction(slice_x, flow)\n",
        "    average_x1 = (prediction_x1 + slice_x1)/2\n",
        "    x_x1_tomogram[:,:,x + 1] = average_x1[:,:]\n",
        "  print()\n",
        "  return x_x1_tomogram\n",
        "\n",
        "def x1_x(tomogram, w=5, l=3):\n",
        "  print(\"x+1 -> x\", end=' ')\n",
        "  x1_x_tomogram = np.zeros_like(tomogram).astype(np.float64)\n",
        "  for x in range(tomogram.shape[2] - 1):\n",
        "    #print(f\"\\rx1_x {x}/{tomogram.shape[2] - 1}\", flush=True)\n",
        "    print('.', end='')\n",
        "    slice_x = tomogram[:,:,x].astype(np.float64)\n",
        "    slice_x1 = tomogram[:,:,x + 1].astype(np.float64)\n",
        "    flow = cv2.calcOpticalFlowFarneback(prev=slice_x, next=slice_x1, flow=None, pyr_scale=0.5, levels=l, winsize=w, iterations=3, poly_n=5, poly_sigma=1.2, flags=0)\n",
        "    prediction_x = make_prediction(slice_x1, flow)\n",
        "    average_x = (prediction_x + slice_x)/2\n",
        "    x1_x_tomogram[..., x] = average_x[:,:]\n",
        "  print()\n",
        "  return x1_x_tomogram\n",
        "\n",
        "def y_y1(tomogram, w=5, l=3):\n",
        "  print(\"y -> y+1\", end=' ')\n",
        "  y_y1_tomogram = np.zeros_like(tomogram).astype(np.float64)\n",
        "  for y in range(tomogram.shape[1] - 1):\n",
        "    #print(f\"\\ry_y1 {x}/{tomogram.shape[1] - 1}\", flush=True)\n",
        "    #print(y, end= ' ', flush=True)\n",
        "    print('.', end='')\n",
        "    slice_y = tomogram[:,y,:].astype(np.float64)\n",
        "    slice_y1 = tomogram[:,y+1,:].astype(np.float64)\n",
        "    flow = cv2.calcOpticalFlowFarneback(prev=slice_y1, next=slice_y, flow=None, pyr_scale=0.5, levels=l, winsize=w, iterations=3, poly_n=5, poly_sigma=1.2, flags=0)\n",
        "    prediction_y1 = make_prediction(slice_y, flow)\n",
        "    average_y1 = (prediction_y1 + slice_y1)/2\n",
        "    y_y1_tomogram[:,y + 1,:] = average_y1[:,:]\n",
        "  print()\n",
        "  return y_y1_tomogram\n",
        "\n",
        "def y1_y(tomogram, w=5, l=3):\n",
        "  print(\"y+1 -> y\", end=' ')\n",
        "  y1_y_tomogram = np.zeros_like(tomogram).astype(np.float64)\n",
        "  for y in range(tomogram.shape[1] - 1):\n",
        "    #print(f\"\\ny1_y {x}/{tomogram.shape[1] - 1}\", flush=True)\n",
        "    #print(y, end= ' ', flush=True)\n",
        "    print('.', end='')\n",
        "    slice_y = tomogram[:,y,:].astype(np.float64)\n",
        "    slice_y1 = tomogram[:,y+1,:].astype(np.float64)\n",
        "    flow = cv2.calcOpticalFlowFarneback(prev=slice_y, next=slice_y1, flow=None, pyr_scale=0.5, levels=l, winsize=w, iterations=3, poly_n=5, poly_sigma=1.2, flags=0)\n",
        "    prediction_y = make_prediction(slice_y1, flow)\n",
        "    average_y = (prediction_y + slice_y)/2\n",
        "    y1_y_tomogram[:,y,:] = average_y[:,:]\n",
        "  print()\n",
        "  return y1_y_tomogram\n",
        "\n",
        "def z_z1(tomogram, w=5, l=3):\n",
        "  print(\"z -> z+1\", end=' ')\n",
        "  z_z1_tomogram = np.zeros_like(tomogram).astype(np.float64)\n",
        "  for z in range(tomogram.shape[0] - 1):\n",
        "    #print(f\"\\rz_z1 {x}/{tomogram.shape[0] - 1}\", flush=True)\n",
        "    #print(z, end= ' ', flush=True)\n",
        "    print('.', end='')\n",
        "    slice_z = tomogram[z,:,:].astype(np.float64)\n",
        "    slice_z1 = tomogram[z+1,:,:].astype(np.float64)\n",
        "    flow = cv2.calcOpticalFlowFarneback(prev=slice_z1, next=slice_z, flow=None, pyr_scale=0.5, levels=l, winsize=w, iterations=3, poly_n=5, poly_sigma=1.2, flags=0)\n",
        "    prediction_z1 = make_prediction(slice_z, flow)\n",
        "    average_z1 = (prediction_z1 + slice_z1)/2\n",
        "    z_z1_tomogram[z + 1,:,:] = average_z1[:,:]\n",
        "  print()\n",
        "  return z_z1_tomogram\n",
        "\n",
        "def z1_z(tomogram, w=5, l=3):\n",
        "  print(\"z+1 -> z\", end=' ')\n",
        "  z1_z_tomogram = np.zeros_like(tomogram.data).astype(np.float64)\n",
        "  for z in range(tomogram.shape[0] - 1):\n",
        "    #print(f\"\\rz1_z {x}/{tomogram.shape[0] - 1}\", flush=True)\n",
        "    #print(z, end= ' ', flush=True)\n",
        "    print('.', end='')\n",
        "    slice_z = tomogram[z,:,:].astype(np.float64)\n",
        "    slice_z1 = tomogram[z+1,:,:].astype(np.float64)\n",
        "    flow = cv2.calcOpticalFlowFarneback(prev=slice_z, next=slice_z1, flow=None, pyr_scale=0.5, levels=l, winsize=w, iterations=3, poly_n=5, poly_sigma=1.2, flags=0)\n",
        "    prediction_z = make_prediction(slice_z1, flow)\n",
        "    average_z = (prediction_z + slice_z)/2\n",
        "    z1_z_tomogram[z:,:,:] = average_z[:,:]\n",
        "  print()\n",
        "  return z1_z_tomogram\n",
        "\n",
        "def XYZ_iteration(tomogram, w=5, l=3):\n",
        "  filtered_tomogram = (x_x1(tomogram, w, l).astype(np.float64) +\n",
        "                       x1_x(tomogram, w, l) +\n",
        "                       y_y1(tomogram, w, l) +\n",
        "                       y1_y(tomogram, w, l) +\n",
        "                       z_z1(tomogram, w, l) +\n",
        "                       z1_z(tomogram, w, l))/6\n",
        "  return filtered_tomogram\n",
        "\n",
        "def average_energy(tomogram):\n",
        "  #energy = np.sum(tomogram.astype(np.float64) * tomogram)\n",
        "  energy = np.sum(np.abs(tomogram.astype(np.float64))).astype(np.float64)\n",
        "  average_energy = energy / tomogram.size\n",
        "  return average_energy\n",
        "\n",
        "def R_ener(tomogram):\n",
        "  return math.sqrt(energy(tomogram))\n",
        "\n",
        "def write(image, fn):\n",
        "  cv2.imwrite(fn, image)\n",
        "\n",
        "# Esta versión nunca para (la energía no decrece asintóticamente hacia 0 ni a ningún otro valor)\n",
        "def filter2(tomogram):\n",
        "  z = 100\n",
        "  normalized_image = cv2.normalize(tomogram[z, :, :], None, 0, 255, cv2.NORM_MINMAX)\n",
        "  write(normalized_image, f\"drive/Shareddrives/MissingWedge/ejemplo_{0:03d}.png\")\n",
        "  cv2_imshow(normalized_image)\n",
        "  threshold = 10000\n",
        "  RMSE_decrease = threshold + 1\n",
        "  i = 1\n",
        "  while(energy_decrease > threshold):\n",
        "    filtered_tomogram = XYZ_iteration(tomogram)\n",
        "    if __debug__:\n",
        "      normalized_image = cv2.normalize(filtered_tomogram[z, :, :], None, 0, 255, cv2.NORM_MINMAX).astype(np.uint8)\n",
        "      cv2_imshow(normalized_image)\n",
        "      write(normalized_image, f\"drive/Shareddrives/MissingWedge/ejemplo_{i:03d}.png\")\n",
        "      avg_energy_decrease = average_energy(tomogram - filtered_tomogram)\n",
        "    if __debug__:\n",
        "      tomogram_avg_energy = average_energy(tomogram)\n",
        "      filtered_tomogram_avg_energy = average_energy(filtered_tomogram)\n",
        "      print(\"tomogram average energy =\", tomogram_avg_energy)\n",
        "      print(\"filtered tomogram energy =\", filtered_tomogram_energy)\n",
        "      print(\"energy decrease =\", energy_decrease)\n",
        "    tomogram = filtered_tomogram\n",
        "    i = i + 1\n",
        "  return filtered_tomogram\n",
        "\n",
        "# Esta versión se detiene cuando se comienza a aumentar la energía de la diferencia entre el tomograma actual y su versión filtrada\n",
        "def filter(tomogram, epsilon=0.1, max_iterations=20, w=5, l=3):\n",
        "  if __debug__:\n",
        "    print(f\"epsilon={epsilon}, max_iterations={max_iterations}, w={w}, l={l}\")\n",
        "    z = 100\n",
        "  if __debug__:\n",
        "    img = tomogram[z, :, :]\n",
        "    print(f\"min={np.min(img)} max={np.max(img)}\")\n",
        "    normalized_img = cv2.normalize(img, None, 0, 255, cv2.NORM_MINMAX)\n",
        "    #write(normalized_image, f\"drive/Shareddrives/MissingWedge/ejemplo_{0:03d}.png\")\n",
        "    cv2_imshow(normalized_img)\n",
        "  #energy_difference = energy(tomogram - filtered_tomogram)\n",
        "  avg_energy_difference = 0\n",
        "  min_avg_energy_difference = avg_energy_difference + 1\n",
        "  #decreasing_energy = True\n",
        "  i = 1\n",
        "  prev_avg_energy_difference = 10E10\n",
        "  #while(decreasing_energy):\n",
        "  while True:\n",
        "    if __debug__:\n",
        "      print(\"iteration =\", i)\n",
        "    filtered_tomogram = XYZ_iteration(tomogram, w, l)\n",
        "    if __debug__:\n",
        "      img = filtered_tomogram[z, :, :]\n",
        "      print(f\"min={np.min(img)} max={np.max(img)}\")\n",
        "      normalized_img = cv2.normalize(img, None, 0, 255, cv2.NORM_MINMAX).astype(np.uint8)\n",
        "      cv2_imshow(normalized_img)\n",
        "      #write(normalized_image, f\"drive/Shareddrives/MissingWedge/ejemplo_{i:03d}.png\")\n",
        "    avg_energy_difference = average_energy(tomogram - filtered_tomogram)\n",
        "    if __debug__:\n",
        "      tomogram_avg_energy = average_energy(tomogram)\n",
        "      print(\"tomogram average energy =\", tomogram_avg_energy)\n",
        "      filtered_tomogram_avg_energy = average_energy(filtered_tomogram)\n",
        "      print(\"filtered_tomogram average energy =\", filtered_tomogram_avg_energy)\n",
        "      print(\"average energy (tomogram - filtered_tomogram) =\", avg_energy_difference)\n",
        "    if i > max_iterations:\n",
        "      if __debug__:\n",
        "        print(\"Maximum number of iterations reached\")\n",
        "      return filtered_tomogram\n",
        "    if avg_energy_difference < epsilon:\n",
        "      if __debug__:\n",
        "        print(\"Minimum epsilon reached\")\n",
        "      return tomogram\n",
        "    if avg_energy_difference >= prev_avg_energy_difference:\n",
        "      if __debug__:\n",
        "        #img = filtered_tomogram[z, :, :]\n",
        "        #print(f\"min={np.min(img)} max={np.max(img)}\")\n",
        "        #normalized_img = cv2.normalize(img, None, 0, 255, cv2.NORM_MINMAX).astype(np.uint8)\n",
        "        #cv2_imshow(normalized_img)\n",
        "        print(\"Differences rising ... finishing\")\n",
        "      return tomogram\n",
        "    #if min_iterations == 0:\n",
        "    #  if avg_energy_difference >= prev_avg_energy_difference:\n",
        "    #    #decreasing_energy = False\n",
        "    #    return tomogram\n",
        "    #else:\n",
        "    #  if i >= min_iterations:\n",
        "    #    #decreasing_energy = False\n",
        "    #    return filtered_tomogram\n",
        "    prev_avg_energy_difference = avg_energy_difference\n",
        "    tomogram = filtered_tomogram\n",
        "    i = i + 1\n",
        "  #return tomogram\n"
      ]
    },
    {
      "cell_type": "code",
      "execution_count": null,
      "metadata": {
        "id": "6oRBND_cMZ6p"
      },
      "outputs": [],
      "source": [
        "tomogram_MRC = mrcfile.open(f'{tomogram_name}.mrc')\n",
        "print(tomogram_MRC.data.dtype, tomogram_MRC.data.shape)"
      ]
    },
    {
      "cell_type": "code",
      "execution_count": null,
      "metadata": {
        "id": "jQ0Jp7-i6ik2"
      },
      "outputs": [],
      "source": [
        "tomogram = np.copy(tomogram_MRC.data.astype(np.uint8))\n",
        "tomogram[100, 10:60, 10:60] = 255"
      ]
    },
    {
      "cell_type": "code",
      "execution_count": null,
      "metadata": {
        "id": "aJuz4Jzwoo2W",
        "scrolled": true
      },
      "outputs": [],
      "source": [
        "filtered_tomogram = filter(tomogram.astype(np.uint8), max_iterations=max_iterations, w=w, l=l)"
      ]
    },
    {
      "cell_type": "code",
      "execution_count": null,
      "metadata": {
        "id": "Ia0KrhdZwnZL"
      },
      "outputs": [],
      "source": [
        "with mrcfile.new(f'drive/Shareddrives/MissingWedge/{tomogram_name}_filtered__max_iterations={max_iterations}__w={w}__l={l}.mrc', overwrite=True) as mrc:\n",
        "  mrc.set_data(filtered_tomogram.astype(np.float32))\n",
        "  mrc.data"
      ]
    },
    {
      "cell_type": "code",
      "execution_count": null,
      "metadata": {
        "id": "XHEj08fd46pB"
      },
      "outputs": [],
      "source": [
        "filtered_tomogram_MRC = mrcfile.open(f\"drive/Shareddrives/MissingWedge/{tomogram_name}_filtered__max_iterations={max_iterations}__w={w}__l={l}.mrc\")\n",
        "tomogram_MRC = mrcfile.open('epfl1_subset1.mrc')"
      ]
    },
    {
      "cell_type": "code",
      "execution_count": null,
      "metadata": {
        "id": "A5V3qlWmym5W"
      },
      "outputs": [],
      "source": [
        "def g(z=0):\n",
        "  cv2_imshow(cv2.normalize(tomogram_MRC.data[z, :, :].astype(np.uint8), None, 0, 255, cv2.NORM_MINMAX))\n",
        "  cv2_imshow(cv2.normalize(filtered_tomogram_MRC.data[z, :, :], None, 0, 255, cv2.NORM_MINMAX))\n",
        "\n",
        "interactive_plot = interactive(g, z=100)\n",
        "interactive_plot"
      ]
    },
    {
      "cell_type": "code",
      "execution_count": null,
      "metadata": {
        "id": "YC5_xT_XRXXh"
      },
      "outputs": [],
      "source": [
        "while True:pass"
      ]
    }
  ],
  "metadata": {
    "colab": {
      "collapsed_sections": [],
      "name": "iterative_OF.ipynb",
      "provenance": []
    },
    "kernelspec": {
      "display_name": "Python 3 (ipykernel)",
      "language": "python",
      "name": "python3"
    },
    "language_info": {
      "codemirror_mode": {
        "name": "ipython",
        "version": 3
      },
      "file_extension": ".py",
      "mimetype": "text/x-python",
      "name": "python",
      "nbconvert_exporter": "python",
      "pygments_lexer": "ipython3",
      "version": "3.10.4"
    }
  },
  "nbformat": 4,
  "nbformat_minor": 0
}