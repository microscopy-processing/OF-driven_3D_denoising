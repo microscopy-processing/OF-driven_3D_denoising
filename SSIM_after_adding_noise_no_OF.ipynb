{
 "cells": [
  {
   "cell_type": "markdown",
   "metadata": {
    "id": "QqfKxC0KuCzK"
   },
   "source": [
    "## `SSIM (original_tomogram, denoise(original_tomogram + noise))`\n",
    "The higher the index, the better the denoising."
   ]
  },
  {
   "cell_type": "code",
   "execution_count": null,
   "metadata": {
    "id": "T1dAtBnCunOh"
   },
   "outputs": [],
   "source": [
    "# Configuration\n",
    "original_tomogram_name = \"empiar10311_stack_crop.mrc\"\n",
    "mean_noise = 0.0\n",
    "sigma_noise = 1.5\n",
    "sigma_denoising = 2.5"
   ]
  },
  {
   "cell_type": "code",
   "execution_count": null,
   "metadata": {
    "colab": {
     "base_uri": "https://localhost:8080/"
    },
    "id": "4Ybt_CUa1bAl",
    "outputId": "2f42c4dd-146f-48f1-9a91-8c2a01487df6"
   },
   "outputs": [],
   "source": [
    "# Mount Google Drive.\n",
    "from google.colab import drive\n",
    "drive.mount('/content/drive')"
   ]
  },
  {
   "cell_type": "code",
   "execution_count": null,
   "metadata": {
    "colab": {
     "base_uri": "https://localhost:8080/"
    },
    "id": "IIUxh4uStrQJ",
    "outputId": "cef81c24-8c5e-43be-cd24-374baeb2b658"
   },
   "outputs": [],
   "source": [
    "import numpy as np\n",
    "#import scipy.ndimage\n",
    "#import matplotlib.pyplot as plt\n",
    "!pip install mrcfile\n",
    "import mrcfile\n",
    "import scipy.stats\n",
    "from skimage.metrics import structural_similarity as SSIM\n",
    "import time\n",
    "import _3D_denoising\n",
    "import kernels"
   ]
  },
  {
   "cell_type": "code",
   "execution_count": null,
   "metadata": {
    "id": "w7Y_zAN8Ha0I"
   },
   "outputs": [],
   "source": [
    "def add_gaussian_noise(tomogram, mean, sigma):\n",
    "  noise = np.random.normal(mean,sigma,tomogram.shape)\n",
    "  return tomogram + noise "
   ]
  },
  {
   "cell_type": "code",
   "execution_count": null,
   "metadata": {
    "id": "TKi93ZrwHa0K"
   },
   "outputs": [],
   "source": [
    "def compute_SSIM(original_tomogram, denoised_tomogram, border_size):\n",
    "  assert border_size > 0\n",
    "  ROI_original_tomogram = original_tomogram[border_size:-border_size, border_size:-border_size, border_size:-border_size].flatten()\n",
    "  ROI_denoised_tomogram = denoised_tomogram[border_size:-border_size, border_size:-border_size, border_size:-border_size].flatten()\n",
    "  index = SSIM(ROI_original_tomogram, ROI_denoised_tomogram, data_range=ROI_original_tomogram.max() - ROI_denoised_tomogram.min(), full=False)\n",
    "  return index"
   ]
  },
  {
   "cell_type": "code",
   "execution_count": null,
   "metadata": {
    "colab": {
     "base_uri": "https://localhost:8080/"
    },
    "id": "tyCmAaII1nmw",
    "outputId": "2fba022f-484a-41e1-a83e-5fcdea4404f6"
   },
   "outputs": [],
   "source": [
    "original_tomogram_MRC = mrcfile.open(f'drive/Shareddrives/TomogramDenoising/tomograms/{original_tomogram_name}')\n",
    "original_tomogram = original_tomogram_MRC.data[0:50, 0:50, 0:50]\n",
    "print(original_tomogram.dtype, original_tomogram.shape)\n",
    "#denoised_tomogram_MRC = mrcfile.open(f'drive/Shareddrives/TomogramDenoising/results/{denoised_tomogram_name}')\n",
    "#denoised_tomogram = denoised_tomogram_MRC.data\n",
    "#print(denoised_tomogram.dtype, denoised_tomogram.shape)"
   ]
  },
  {
   "cell_type": "code",
   "execution_count": null,
   "metadata": {},
   "outputs": [],
   "source": [
    "noised_tomogram = add_gaussian_noise(original_tomogram, mean_noise, sigma_noise)"
   ]
  },
  {
   "cell_type": "code",
   "execution_count": null,
   "metadata": {},
   "outputs": [],
   "source": [
    "kernel = kernels.get_gaussian_kernel(sigma_denoising)\n",
    "denoised_tomogram = _3D_denoising.filter(noised_tomogram, kernel)"
   ]
  },
  {
   "cell_type": "code",
   "execution_count": null,
   "metadata": {
    "colab": {
     "base_uri": "https://localhost:8080/"
    },
    "id": "P2SFAiEUHa0U",
    "outputId": "4dc76e5b-9509-4036-cdec-9bf940be87cc"
   },
   "outputs": [],
   "source": [
    "border_size = int(sigma_denoising * 4)\n",
    "index = compute_SSIM(original_tomogram, denoised_tomogram, border_size)"
   ]
  },
  {
   "cell_type": "code",
   "execution_count": null,
   "metadata": {
    "colab": {
     "base_uri": "https://localhost:8080/"
    },
    "id": "UryZ04VVQj9G",
    "outputId": "b7ea63c3-1ab5-4d29-c4b3-d4ef02b56d4b"
   },
   "outputs": [],
   "source": [
    "output = f\"tomogram=\\\"{original_tomogram_name}\\\"\\t sigma_noise={sigma_noise}\\t sigma_denoising={sigma_denoising}\\t SSIM_index={index}\"\n",
    "print(output)"
   ]
  },
  {
   "cell_type": "code",
   "execution_count": null,
   "metadata": {},
   "outputs": [],
   "source": [
    "with open(\"drive/Shareddrives/TomogramDenoising/results/SSIM_indexes_after_adding_noise.txt\", 'a') as f:\n",
    "  f.write(output + '\\n')"
   ]
  },
  {
   "cell_type": "code",
   "execution_count": null,
   "metadata": {},
   "outputs": [],
   "source": [
    "print(f\"time: {time.process_time()} seconds\")"
   ]
  }
 ],
 "metadata": {
  "colab": {
   "collapsed_sections": [],
   "name": "correlation_coeff.ipynb",
   "provenance": []
  },
  "kernelspec": {
   "display_name": "Python 3 (ipykernel)",
   "language": "python",
   "name": "python3"
  },
  "language_info": {
   "codemirror_mode": {
    "name": "ipython",
    "version": 3
   },
   "file_extension": ".py",
   "mimetype": "text/x-python",
   "name": "python",
   "nbconvert_exporter": "python",
   "pygments_lexer": "ipython3",
   "version": "3.10.4"
  }
 },
 "nbformat": 4,
 "nbformat_minor": 1
}
