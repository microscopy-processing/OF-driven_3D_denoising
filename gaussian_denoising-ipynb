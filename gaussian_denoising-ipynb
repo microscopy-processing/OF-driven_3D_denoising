{
  "nbformat": 4,
  "nbformat_minor": 0,
  "metadata": {
    "colab": {
      "name": "gaussian_denoising.ipynb",
      "provenance": [],
      "collapsed_sections": []
    },
    "kernelspec": {
      "name": "python3",
      "display_name": "Python 3"
    },
    "language_info": {
      "name": "python"
    }
  },
  "cells": [
    {
      "cell_type": "markdown",
      "source": [
        "# Slice-wise 1D gaussian denoising"
      ],
      "metadata": {
        "id": "QqfKxC0KuCzK"
      }
    },
    {
      "cell_type": "code",
      "source": [
        "# Mount Google Drive.\n",
        "from google.colab import drive\n",
        "drive.mount('/content/drive')"
      ],
      "metadata": {
        "id": "4Ybt_CUa1bAl"
      },
      "execution_count": null,
      "outputs": []
    },
    {
      "cell_type": "code",
      "execution_count": null,
      "metadata": {
        "id": "IIUxh4uStrQJ"
      },
      "outputs": [],
      "source": [
        "import numpy as np\n",
        "import scipy.ndimage\n",
        "import matplotlib.pyplot as plt\n",
        "!pip install mrcfile\n",
        "import mrcfile\n",
        "from ipywidgets import *\n",
        "import cv2\n",
        "from google.colab.patches import cv2_imshow"
      ]
    },
    {
      "cell_type": "markdown",
      "source": [
        "## Configuration"
      ],
      "metadata": {
        "id": "GmogWeAZZR_A"
      }
    },
    {
      "cell_type": "code",
      "source": [
        "tomogram_name = \"TS_01_nobeads\"\n",
        "sigma = 1.5 # Gaussian's sigma"
      ],
      "metadata": {
        "id": "T1dAtBnCunOh"
      },
      "execution_count": null,
      "outputs": []
    },
    {
      "cell_type": "markdown",
      "source": [
        "## End configuration"
      ],
      "metadata": {
        "id": "frxjyMcleEYl"
      }
    },
    {
      "cell_type": "code",
      "source": [
        "def compute_gaussian_kernel(sigma=1):\n",
        "  number_of_coeffs = 3\n",
        "  number_of_zeros = 0\n",
        "  while number_of_zeros < 2 :\n",
        "    delta = np.zeros(number_of_coeffs)\n",
        "    delta[delta.size//2] = 1\n",
        "    coeffs = scipy.ndimage.gaussian_filter1d(delta, sigma=sigma)\n",
        "    number_of_zeros = coeffs.size - np.count_nonzero(coeffs)\n",
        "    number_of_coeffs += 1\n",
        "  return coeffs[1:-1]\n",
        "\n",
        "kernel = compute_gaussian_kernel(sigma)\n",
        "print(kernel)\n",
        "print(np.sum(kernel))\n",
        "plt.plot(kernel)\n",
        "plt.show()"
      ],
      "metadata": {
        "id": "xI1pWnvWxjoj"
      },
      "execution_count": null,
      "outputs": []
    },
    {
      "cell_type": "code",
      "source": [
        "!cp drive/Shareddrives/MissingWedge/tomograms/{tomogram_name}.rec ."
      ],
      "metadata": {
        "id": "VkFDMRzOvUn2"
      },
      "execution_count": null,
      "outputs": []
    },
    {
      "cell_type": "code",
      "source": [
        "tomogram_MRC = mrcfile.open(f'{tomogram_name}.rec')\n",
        "print(tomogram_MRC.data.dtype, tomogram_MRC.data.shape)"
      ],
      "metadata": {
        "id": "tyCmAaII1nmw"
      },
      "execution_count": null,
      "outputs": []
    },
    {
      "cell_type": "code",
      "source": [
        "tomogram = np.copy(tomogram_MRC.data)\n",
        "#tomogram = np.copy(tomogram_MRC.data.astype(np.uint8))\n",
        "#tomogram[100, 10:60, 10:60] = 255"
      ],
      "metadata": {
        "id": "jssjN2bXCbSh"
      },
      "execution_count": null,
      "outputs": []
    },
    {
      "cell_type": "code",
      "source": [
        "def filter_over_Z(tomogram, kernel):\n",
        "  filtered_tomogram = np.zeros_like(tomogram).astype(np.float32)\n",
        "  shape_of_tomogram = np.shape(tomogram)\n",
        "  padded_tomogram = np.zeros(shape=(shape_of_tomogram[0] + kernel.size, shape_of_tomogram[1], shape_of_tomogram[2]))\n",
        "  padded_tomogram[kernel.size//2:shape_of_tomogram[0] + kernel.size//2, ...] = tomogram\n",
        "  Z_dim = tomogram.shape[0]\n",
        "  for z in range(Z_dim):\n",
        "    tmp_slice = np.zeros_like(tomogram[z, :, :]).astype(np.float32)\n",
        "    for i in range(kernel.size):\n",
        "      #tmp_slice += padded_tomogram[z + i - kernel.size//2, :, :] * kernel[i]\n",
        "      tmp_slice += padded_tomogram[z + i, :, :] * kernel[i]\n",
        "    #filtered_tomogram[(z - kernel.size//2) % Z_dim, :, :] = tmp_slice\n",
        "    filtered_tomogram[z, :, :] = tmp_slice\n",
        "    print('.', end='', flush=True)\n",
        "  print()\n",
        "  return filtered_tomogram\n",
        "\n",
        "filtered_tomogram_Z = filter_over_Z(tomogram, kernel)"
      ],
      "metadata": {
        "id": "TM1LWlCd10M1"
      },
      "execution_count": null,
      "outputs": []
    },
    {
      "cell_type": "code",
      "source": [
        "def g(z=0):\n",
        "  #cv2_imshow(cv2.normalize(tomogram[z, :, :].astype(np.uint8), None, 0, 255, cv2.NORM_MINMAX))\n",
        "  cv2_imshow(cv2.normalize(tomogram[z, :, :], None, 0, 255, cv2.NORM_MINMAX))\n",
        "  cv2_imshow(cv2.normalize(filtered_tomogram_Z[z, :, :], None, 0, 255, cv2.NORM_MINMAX))\n",
        "\n",
        "interactive_plot = interactive(g, z=100)\n",
        "interactive_plot"
      ],
      "metadata": {
        "id": "Jgk_EDml8ku5"
      },
      "execution_count": null,
      "outputs": []
    },
    {
      "cell_type": "code",
      "source": [
        "with mrcfile.new(f'drive/Shareddrives/MissingWedge/{tomogram_name}_Z__sigma={sigma}.mrc', overwrite=True) as mrc:\n",
        "  mrc.set_data(filtered_tomogram_Z.astype(np.float32))\n",
        "  mrc.data"
      ],
      "metadata": {
        "id": "BkoNPJeXGRg_"
      },
      "execution_count": null,
      "outputs": []
    },
    {
      "cell_type": "code",
      "source": [
        "def filter_over_Y(tomogram, kernel):\n",
        "  filtered_tomogram = np.zeros_like(tomogram).astype(np.float32)\n",
        "  shape_of_tomogram = np.shape(tomogram)\n",
        "  padded_tomogram = np.zeros(shape=(shape_of_tomogram[0], shape_of_tomogram[1] + kernel.size, shape_of_tomogram[2]))\n",
        "  padded_tomogram[:, kernel.size//2:shape_of_tomogram[1] + kernel.size//2, :] = tomogram\n",
        "  Y_dim = tomogram.shape[1]\n",
        "  for y in range(Y_dim):\n",
        "    tmp_slice = np.zeros_like(tomogram[:, y, :]).astype(np.float32)\n",
        "    for i in range(kernel.size):\n",
        "      tmp_slice += padded_tomogram[:, y + i, :] * kernel[i]\n",
        "    filtered_tomogram[:, y, :] = tmp_slice\n",
        "    print('.', end='', flush=True)\n",
        "  print()\n",
        "  return filtered_tomogram\n",
        "\n",
        "filtered_tomogram_ZY = filter_over_Y(filtered_tomogram_Z, kernel)"
      ],
      "metadata": {
        "id": "qVsnwe2f94Yg"
      },
      "execution_count": null,
      "outputs": []
    },
    {
      "cell_type": "code",
      "source": [
        "def g(z=0):\n",
        "  #cv2_imshow(cv2.normalize(tomogram[z, :, :].astype(np.uint8), None, 0, 255, cv2.NORM_MINMAX))\n",
        "  cv2_imshow(cv2.normalize(tomogram[z, :, :], None, 0, 255, cv2.NORM_MINMAX))\n",
        "  cv2_imshow(cv2.normalize(filtered_tomogram_ZY[z, :, :], None, 0, 255, cv2.NORM_MINMAX))\n",
        "\n",
        "interactive_plot = interactive(g, z=100)\n",
        "interactive_plot"
      ],
      "metadata": {
        "id": "kzDtxr7nJJwC"
      },
      "execution_count": null,
      "outputs": []
    },
    {
      "cell_type": "code",
      "source": [
        "def filter_over_X(tomogram, kernel):\n",
        "  filtered_tomogram = np.zeros_like(tomogram).astype(np.float32)\n",
        "  shape_of_tomogram = np.shape(tomogram)\n",
        "  padded_tomogram = np.zeros(shape=(shape_of_tomogram[0], shape_of_tomogram[1], shape_of_tomogram[2] + kernel.size))\n",
        "  padded_tomogram[:, :, kernel.size//2:shape_of_tomogram[2] + kernel.size//2] = tomogram\n",
        "  X_dim = tomogram.shape[2]\n",
        "  for x in range(X_dim):\n",
        "    tmp_slice = np.zeros_like(tomogram[:, :, x]).astype(np.float32)\n",
        "    for i in range(kernel.size):\n",
        "      tmp_slice += padded_tomogram[:, :, x + i] * kernel[i]\n",
        "    filtered_tomogram[:, :, x] = tmp_slice\n",
        "    print('.', end='', flush=True)\n",
        "  print()\n",
        "  return filtered_tomogram\n",
        "\n",
        "filtered_tomogram_ZYX = filter_over_X(filtered_tomogram_ZY, kernel)"
      ],
      "metadata": {
        "id": "trYyyBahKWRz"
      },
      "execution_count": null,
      "outputs": []
    },
    {
      "cell_type": "code",
      "source": [
        "def g(z=0):\n",
        "  #cv2_imshow(cv2.normalize(tomogram[z, :, :].astype(np.uint8), None, 0, 255, cv2.NORM_MINMAX))\n",
        "  cv2_imshow(cv2.normalize(tomogram[z, :, :], None, 0, 255, cv2.NORM_MINMAX))\n",
        "  cv2_imshow(cv2.normalize(filtered_tomogram_ZYX[z, :, :], None, 0, 255, cv2.NORM_MINMAX))\n",
        "\n",
        "interactive_plot = interactive(g, z=100)\n",
        "interactive_plot"
      ],
      "metadata": {
        "id": "36tFN3WUK1WB"
      },
      "execution_count": null,
      "outputs": []
    },
    {
      "cell_type": "code",
      "source": [
        "with mrcfile.new(f'drive/Shareddrives/MissingWedge/{tomogram_name}__sigma={sigma}.mrc', overwrite=True) as mrc:\n",
        "  mrc.set_data(filtered_tomogram_ZYX.astype(np.float32))\n",
        "  mrc.data"
      ],
      "metadata": {
        "id": "2Z2NYLUDK6L-"
      },
      "execution_count": null,
      "outputs": []
    },
    {
      "cell_type": "code",
      "source": [
        ""
      ],
      "metadata": {
        "id": "CbtykqDNaqL1"
      },
      "execution_count": null,
      "outputs": []
    }
  ]
}