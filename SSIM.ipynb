{
 "cells": [
  {
   "cell_type": "markdown",
   "metadata": {
    "id": "QqfKxC0KuCzK"
   },
   "source": [
    "## `SSIM (original_tomogram, denoised_tomogram)`\n",
    "The higher the index, the better the denoising."
   ]
  },
  {
   "cell_type": "code",
   "execution_count": null,
   "metadata": {
    "id": "T1dAtBnCunOh"
   },
   "outputs": [],
   "source": [
    "# Configuration\n",
    "original_tomogram_name = \"tomograms/empiar10311_stack_crop.mrc\"\n",
    "#tomogram_name = \"empiar10311_stack_crop\"\n",
    "denoised_tomogram_name = \"results/empiar10311_stack_crop__sigma=1.0__w=5_l=3\n",
    "\"\n",
    "Z_crop = 50\n",
    "Y_crop = 50\n",
    "X_crop = 50"
   ]
  },
  {
   "cell_type": "code",
   "execution_count": null,
   "metadata": {
    "colab": {
     "base_uri": "https://localhost:8080/"
    },
    "id": "4Ybt_CUa1bAl",
    "outputId": "2f42c4dd-146f-48f1-9a91-8c2a01487df6"
   },
   "outputs": [],
   "source": [
    "# Mount Google Drive.\n",
    "from google.colab import drive\n",
    "drive.mount('/content/drive')"
   ]
  },
  {
   "cell_type": "code",
   "execution_count": null,
   "metadata": {
    "colab": {
     "base_uri": "https://localhost:8080/"
    },
    "id": "IIUxh4uStrQJ",
    "outputId": "cef81c24-8c5e-43be-cd24-374baeb2b658"
   },
   "outputs": [],
   "source": [
    "import numpy as np\n",
    "#import scipy.ndimage\n",
    "#import matplotlib.pyplot as plt\n",
    "!pip install mrcfile\n",
    "import mrcfile\n",
    "import scipy.stats\n",
    "from skimage.metrics import structural_similarity as SSIM\n",
    "import time\n",
    "import _3D_denoising\n",
    "import kernels"
   ]
  },
  {
   "cell_type": "code",
   "execution_count": null,
   "metadata": {
    "id": "w7Y_zAN8Ha0I"
   },
   "outputs": [],
   "source": [
    "def compute_noise(original_tomogram, denoised_tomogram):\n",
    "  return original_tomogram - denoised_tomogram"
   ]
  },
  {
   "cell_type": "code",
   "execution_count": null,
   "metadata": {},
   "outputs": [],
   "source": [
    "#def compute_SSIM(original_tomogram, denoised_tomogram, border_size):\n",
    "def compute_SSIM(original_tomogram, denoised_tomogram):\n",
    "  #assert border_size > 0\n",
    "  #ROI_original_tomogram = original_tomogram[border_size:-border_size, border_size:-border_size, border_size:-border_size].flatten()\n",
    "  #ROI_denoised_tomogram = denoised_tomogram[border_size:-border_size, border_size:-border_size, border_size:-border_size].flatten()\n",
    "  #index = SSIM(ROI_original_tomogram, ROI_denoised_tomogram, data_range=ROI_original_tomogram.max() - ROI_denoised_tomogram.min(), full=False)\n",
    "  index = SSIM(original_tomogram, denoised_tomogram, data_range=original_tomogram.max() - denoised_tomogram.min(), full=False)\n",
    "  return index"
   ]
  },
  {
   "cell_type": "code",
   "execution_count": null,
   "metadata": {},
   "outputs": [],
   "source": [
    "offset = int(sigma_denoising * 4)"
   ]
  },
  {
   "cell_type": "code",
   "execution_count": null,
   "metadata": {
    "colab": {
     "base_uri": "https://localhost:8080/"
    },
    "id": "tyCmAaII1nmw",
    "outputId": "2fba022f-484a-41e1-a83e-5fcdea4404f6"
   },
   "outputs": [],
   "source": [
    "print(tomogram_name)\n",
    "original_tomogram_MRC = mrcfile.open(f'drive/Shareddrives/TomogramDenoising/{original_tomogram_name}')\n",
    "original_tomogram = original_tomogram_MRC.data[offset:Z_crop, offset:Y_crop, offset:X_crop]\n",
    "print(original_tomogram.dtype, original_tomogram.shape)\n",
    "denoised_tomogram_MRC = mrcfile.open(f'drive/Shareddrives/TomogramDenoising/{denoised_tomogram_name}')\n",
    "denoised_tomogram = denoised_tomogram_MRC.data[offset:Z_crop, offset:Y_crop, offset:X_crop]\n",
    "print(denoised_tomogram.dtype, denoised_tomogram.shape)"
   ]
  },
  {
   "cell_type": "code",
   "execution_count": null,
   "metadata": {
    "colab": {
     "base_uri": "https://localhost:8080/"
    },
    "id": "P2SFAiEUHa0U",
    "outputId": "4dc76e5b-9509-4036-cdec-9bf940be87cc"
   },
   "outputs": [],
   "source": [
    "#border_size = int(sigma_denoising * 4)\n",
    "#index = compute_SSIM(original_tomogram, denoised_tomogram, border_size)\n",
    "index = compute_SSIM(original_tomogram, denoised_tomogram)"
   ]
  },
  {
   "cell_type": "code",
   "execution_count": null,
   "metadata": {
    "colab": {
     "base_uri": "https://localhost:8080/"
    },
    "id": "UryZ04VVQj9G",
    "outputId": "b7ea63c3-1ab5-4d29-c4b3-d4ef02b56d4b"
   },
   "outputs": [],
   "source": [
    "output = f\"tomogram=\\\"{tomogram_name}\\\"\\t sigma_denoising={sigma_denoising} SSIM_index={index}\"\n",
    "print(output)"
   ]
  },
  {
   "cell_type": "code",
   "execution_count": null,
   "metadata": {},
   "outputs": [],
   "source": [
    "with open(\"drive/Shareddrives/TomogramDenoising/results/SSIM_indexes.txt\", 'a') as f:\n",
    "  f.write(output + '\\n')"
   ]
  },
  {
   "cell_type": "code",
   "execution_count": null,
   "metadata": {},
   "outputs": [],
   "source": [
    "print(f\"time: {time.process_time()} seconds\")"
   ]
  }
 ],
 "metadata": {
  "colab": {
   "collapsed_sections": [],
   "name": "correlation_coeff.ipynb",
   "provenance": []
  },
  "kernelspec": {
   "display_name": "Python 3 (ipykernel)",
   "language": "python",
   "name": "python3"
  },
  "language_info": {
   "codemirror_mode": {
    "name": "ipython",
    "version": 3
   },
   "file_extension": ".py",
   "mimetype": "text/x-python",
   "name": "python",
   "nbconvert_exporter": "python",
   "pygments_lexer": "ipython3",
   "version": "3.10.5"
  }
 },
 "nbformat": 4,
 "nbformat_minor": 1
}
