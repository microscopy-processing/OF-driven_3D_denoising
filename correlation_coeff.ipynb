{
 "cells": [
  {
   "cell_type": "markdown",
   "metadata": {
    "id": "QqfKxC0KuCzK"
   },
   "source": [
    "## `Correlation coefficient (noise_tomogram, denoised_tomogram)`\n",
    "where ...\n",
    "\n",
    "    noise_tomogram = original_noisy_tomogram - denoised_tomogram\n",
    "\n",
    "The lower the coefficient, the better the denoising."
   ]
  },
  {
   "cell_type": "code",
   "execution_count": null,
   "metadata": {
    "id": "T1dAtBnCunOh"
   },
   "outputs": [],
   "source": [
    "# Configuration\n",
    "original_tomogram_name = \"epfl1_subset1_float.mrc\"\n",
    "denoised_tomogram_name = \"epfl1_subset1_float__sigma=2.5.mrc\"\n",
    "border_size = 5 # Number of border-boxels to ignore > 0\n",
    "assert border_size > 0"
   ]
  },
  {
   "cell_type": "code",
   "execution_count": null,
   "metadata": {
    "colab": {
     "base_uri": "https://localhost:8080/"
    },
    "id": "4Ybt_CUa1bAl",
    "outputId": "2f42c4dd-146f-48f1-9a91-8c2a01487df6"
   },
   "outputs": [],
   "source": [
    "# Mount Google Drive.\n",
    "from google.colab import drive\n",
    "drive.mount('/content/drive')"
   ]
  },
  {
   "cell_type": "code",
   "execution_count": null,
   "metadata": {
    "colab": {
     "base_uri": "https://localhost:8080/"
    },
    "id": "IIUxh4uStrQJ",
    "outputId": "cef81c24-8c5e-43be-cd24-374baeb2b658"
   },
   "outputs": [],
   "source": [
    "import numpy as np\n",
    "#import scipy.ndimage\n",
    "#import matplotlib.pyplot as plt\n",
    "!pip install mrcfile\n",
    "import mrcfile\n",
    "#from ipywidgets import *\n",
    "#import cv2\n",
    "#from google.colab.patches import cv2_imshow\n",
    "#import time\n",
    "import scipy.stats \n",
    "#from scipy.stats import pearsonr"
   ]
  },
  {
   "cell_type": "code",
   "execution_count": null,
   "metadata": {
    "id": "w7Y_zAN8Ha0I"
   },
   "outputs": [],
   "source": [
    "def compute_noise(original_tomogram, denoised_tomogram):\n",
    "  return original_tomogram - denoised_tomogram"
   ]
  },
  {
   "cell_type": "code",
   "execution_count": null,
   "metadata": {
    "id": "TKi93ZrwHa0K"
   },
   "outputs": [],
   "source": [
    "def compute_correlation_coeff(noise_tomogram, denoised_tomogram, border_size):\n",
    "  assert border_size > 0\n",
    "  ROI_noise_tomogram = noise_tomogram[border_size:-border_size, border_size:-border_size, border_size:-border_size].flatten()\n",
    "  ROI_denoised_tomogram = denoised_tomogram[border_size:-border_size, border_size:-border_size, border_size:-border_size].flatten()\n",
    "  R, p_value = scipy.stats.pearsonr(ROI_noise_tomogram, ROI_denoised_tomogram)\n",
    "  #R, p_value = scipy.stats.pearsonr(noise_tomogram.flatten(), denoised_tomogram.flatten())\n",
    "  return R"
   ]
  },
  {
   "cell_type": "code",
   "execution_count": null,
   "metadata": {
    "colab": {
     "base_uri": "https://localhost:8080/"
    },
    "id": "tyCmAaII1nmw",
    "outputId": "2fba022f-484a-41e1-a83e-5fcdea4404f6"
   },
   "outputs": [],
   "source": [
    "original_tomogram_MRC = mrcfile.open(f'drive/Shareddrives/TomogramDenoising/tomograms/{original_tomogram_name}')\n",
    "original_tomogram = original_tomogram_MRC.data\n",
    "print(original_tomogram.dtype, original_tomogram.shape)\n",
    "denoised_tomogram_MRC = mrcfile.open(f'drive/Shareddrives/TomogramDenoising/results/{denoised_tomogram_name}')\n",
    "denoised_tomogram = denoised_tomogram_MRC.data\n",
    "print(denoised_tomogram.dtype, denoised_tomogram.shape)"
   ]
  },
  {
   "cell_type": "code",
   "execution_count": null,
   "metadata": {
    "colab": {
     "base_uri": "https://localhost:8080/"
    },
    "id": "P2SFAiEUHa0U",
    "outputId": "4dc76e5b-9509-4036-cdec-9bf940be87cc"
   },
   "outputs": [],
   "source": [
    "noise_tomogram = compute_noise(original_tomogram, denoised_tomogram)\n",
    "correlation_coeff = compute_correlation_coeff(noise_tomogram, denoised_tomogram, border_size)"
   ]
  },
  {
   "cell_type": "code",
   "execution_count": null,
   "metadata": {
    "colab": {
     "base_uri": "https://localhost:8080/"
    },
    "id": "UryZ04VVQj9G",
    "outputId": "b7ea63c3-1ab5-4d29-c4b3-d4ef02b56d4b"
   },
   "outputs": [],
   "source": [
    "output = f\"tomogram=\\\"{denoised_tomogram_name}\\\" correlation_coefficient={correlation_coeff}\"\n",
    "print(output)"
   ]
  },
  {
   "cell_type": "code",
   "execution_count": null,
   "metadata": {},
   "outputs": [],
   "source": [
    "with open(\"correlation_coeffs.txt\", 'w+') as f:\n",
    "  f.write(output)\n",
    "print(\"correlation_coeffs.txt updated\")"
   ]
  }
 ],
 "metadata": {
  "colab": {
   "collapsed_sections": [],
   "name": "correlation_coeff.ipynb",
   "provenance": []
  },
  "kernelspec": {
   "display_name": "Python 3 (ipykernel)",
   "language": "python",
   "name": "python3"
  },
  "language_info": {
   "codemirror_mode": {
    "name": "ipython",
    "version": 3
   },
   "file_extension": ".py",
   "mimetype": "text/x-python",
   "name": "python",
   "nbconvert_exporter": "python",
   "pygments_lexer": "ipython3",
   "version": "3.10.4"
  }
 },
 "nbformat": 4,
 "nbformat_minor": 1
}
