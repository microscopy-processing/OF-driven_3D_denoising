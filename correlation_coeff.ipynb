{
 "cells": [
  {
   "cell_type": "markdown",
   "metadata": {
    "id": "QqfKxC0KuCzK"
   },
   "source": [
    "## `Correlation coefficient (noise_tomogram, denoised_tomogram)`\n",
    "where ...\n",
    "\n",
    "    noise_tomogram = original_noisy_tomogram - denoised_tomogram"
   ]
  },
  {
   "cell_type": "code",
   "execution_count": null,
   "metadata": {
    "id": "T1dAtBnCunOh"
   },
   "outputs": [],
   "source": [
    "# Configuration\n",
    "original_tomogram_name = \"epfl1_subset1_float.mrc\"\n",
    "denoised_tomogram_name = \"epfl1_subset1_float__sigma=2.5.mrc\"\n",
    "border_size = 5  # Number of border-boxels to ignore"
   ]
  },
  {
   "cell_type": "code",
   "execution_count": null,
   "metadata": {
    "id": "4Ybt_CUa1bAl"
   },
   "outputs": [],
   "source": [
    "# Mount Google Drive.\n",
    "from google.colab import drive\n",
    "drive.mount('/content/drive')"
   ]
  },
  {
   "cell_type": "code",
   "execution_count": null,
   "metadata": {
    "id": "IIUxh4uStrQJ"
   },
   "outputs": [],
   "source": [
    "import numpy as np\n",
    "#import scipy.ndimage\n",
    "#import matplotlib.pyplot as plt\n",
    "!pip install mrcfile\n",
    "import mrcfile\n",
    "#from ipywidgets import *\n",
    "#import cv2\n",
    "#from google.colab.patches import cv2_imshow\n",
    "#import time\n",
    "import scipy\n",
    "#from scipy.stats import pearsonr"
   ]
  },
  {
   "cell_type": "code",
   "execution_count": null,
   "metadata": {},
   "outputs": [],
   "source": [
    "def compute_noise(original_tomogram, denoised_tomogram):\n",
    "    return original_tomogram - denoised_tomogram"
   ]
  },
  {
   "cell_type": "code",
   "execution_count": null,
   "metadata": {},
   "outputs": [],
   "source": [
    "def compute_correlation_coeff(noise_tomogram, denoised_tomogram, border_size):\n",
    "    ROI_noise_tomogram = noise_tomogram[border_size:-border_size, border_size:-border_size, border_size:-border_size]\n",
    "    ROI_denoised_tomogram = denoised_tomogram[border_size:-border_size, border_size:-border_size, border_size:-border_size]\n",
    "    R, p_value = scipy.stats.pearsonr(ROI_noise_tomogram, ROI_denoised_tomogram)\n",
    "    return R"
   ]
  },
  {
   "cell_type": "code",
   "execution_count": null,
   "metadata": {
    "id": "VkFDMRzOvUn2"
   },
   "outputs": [],
   "source": [
    "#!cp drive/Shareddrives/TomogramDenoising/tomograms/{original_tomogram_name} .\n",
    "#!cp drive/Shareddrives/TomogramDenoising/results/{denoised_tomogram_name} ."
   ]
  },
  {
   "cell_type": "code",
   "execution_count": null,
   "metadata": {
    "id": "tyCmAaII1nmw"
   },
   "outputs": [],
   "source": [
    "original_tomogram_MRC = mrcfile.open(f'drive/Shareddrives/TomogramDenoising/tomograms/{original_tomogram_name}')\n",
    "original_tomogram = original_tomogram_MRC.data\n",
    "print(original_tomogram.dtype, original_tomogram.shape)\n",
    "denoised_tomogram_MRC = mrcfile.open(f'drive/Shareddrives/TomogramDenoising/results/{denoised_tomogram_name}')\n",
    "denoised_tomogram = denoised_tomogram_MRC.data\n",
    "print(denoised_tomogram.dtype, denoised_tomogram.shape)"
   ]
  },
  {
   "cell_type": "code",
   "execution_count": null,
   "metadata": {},
   "outputs": [],
   "source": [
    "noise_tomogram = compute_noise(original_tomogram, denoised_tomogram)\n",
    "correlation_coeff = compute_correlation_coeff(noise_tomogram, denoised_tomogra, border_size)\n",
    "print(denoised_tomogram_name, correlation_coeff)"
   ]
  }
 ],
 "metadata": {
  "colab": {
   "collapsed_sections": [],
   "name": "gaussian_denoising.ipynb",
   "provenance": []
  },
  "kernelspec": {
   "display_name": "Python 3 (ipykernel)",
   "language": "python",
   "name": "python3"
  },
  "language_info": {
   "codemirror_mode": {
    "name": "ipython",
    "version": 3
   },
   "file_extension": ".py",
   "mimetype": "text/x-python",
   "name": "python",
   "nbconvert_exporter": "python",
   "pygments_lexer": "ipython3",
   "version": "3.10.4"
  }
 },
 "nbformat": 4,
 "nbformat_minor": 1
}
