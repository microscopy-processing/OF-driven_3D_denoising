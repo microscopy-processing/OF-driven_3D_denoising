{
 "cells": [
  {
   "cell_type": "markdown",
   "metadata": {
    "id": "QqfKxC0KuCzK"
   },
   "source": [
    "# 3D OF-driven gaussian denoising"
   ]
  },
  {
   "cell_type": "code",
   "execution_count": null,
   "metadata": {
    "id": "T1dAtBnCunOh"
   },
   "outputs": [],
   "source": [
    "# Configuration\n",
    "tomogram_name = \"TS_01_nobeads\"\n",
    "sigma = 1.5 # Gaussian's sigma\n",
    "l = 2       # Number of levels used in Farneback. Defaut = 2.\n",
    "w = 5       # Window size used in Farneback. Default = 5."
   ]
  },
  {
   "cell_type": "code",
   "execution_count": null,
   "metadata": {
    "id": "4Ybt_CUa1bAl"
   },
   "outputs": [],
   "source": [
    "# Mount Google Drive.\n",
    "from google.colab import drive\n",
    "drive.mount('/content/drive')"
   ]
  },
  {
   "cell_type": "code",
   "execution_count": null,
   "metadata": {
    "id": "IIUxh4uStrQJ"
   },
   "outputs": [],
   "source": [
    "import numpy as np\n",
    "import scipy.ndimage\n",
    "import matplotlib.pyplot as plt\n",
    "!pip install mrcfile\n",
    "import mrcfile\n",
    "from ipywidgets import *\n",
    "import cv2\n",
    "from google.colab.patches import cv2_imshow\n",
    "import time"
   ]
  },
  {
   "cell_type": "code",
   "execution_count": null,
   "metadata": {
    "id": "xI1pWnvWxjoj"
   },
   "outputs": [],
   "source": [
    "def compute_gaussian_kernel(sigma=1):\n",
    "  number_of_coeffs = 3\n",
    "  number_of_zeros = 0\n",
    "  while number_of_zeros < 2 :\n",
    "    delta = np.zeros(number_of_coeffs)\n",
    "    delta[delta.size//2] = 1\n",
    "    coeffs = scipy.ndimage.gaussian_filter1d(delta, sigma=sigma)\n",
    "    number_of_zeros = coeffs.size - np.count_nonzero(coeffs)\n",
    "    number_of_coeffs += 1\n",
    "  return coeffs[1:-1]\n",
    "\n",
    "kernel = compute_gaussian_kernel(sigma)\n",
    "print(kernel)\n",
    "print(np.sum(kernel))\n",
    "plt.plot(kernel)\n",
    "plt.show()"
   ]
  },
  {
   "cell_type": "code",
   "execution_count": null,
   "metadata": {
    "id": "VkFDMRzOvUn2"
   },
   "outputs": [],
   "source": [
    "!cp drive/Shareddrives/TomogramDenoising/tomograms/{tomogram_name}.{input_format} ."
   ]
  },
  {
   "cell_type": "code",
   "execution_count": null,
   "metadata": {
    "id": "tyCmAaII1nmw"
   },
   "outputs": [],
   "source": [
    "tomogram_MRC = mrcfile.open(f'{tomogram_name}.{input_format}')\n",
    "print(tomogram_MRC.data.dtype, tomogram_MRC.data.shape)"
   ]
  },
  {
   "cell_type": "code",
   "execution_count": null,
   "metadata": {
    "id": "jssjN2bXCbSh"
   },
   "outputs": [],
   "source": [
    "#tomogram = np.copy(tomogram_MRC.data.astype(np.uint8))\n",
    "tomogram = np.copy(tomogram_MRC.data)\n",
    "#tomogram[100, 10:60, 10:60] = 255"
   ]
  },
  {
   "cell_type": "code",
   "execution_count": null,
   "metadata": {
    "id": "RkRanrnLRR35"
   },
   "outputs": [],
   "source": [
    "ofca_extension_mode = cv2.BORDER_REPLICATE\n",
    "\n",
    "def warp_slice(reference, flow):\n",
    "  height, width = flow.shape[:2]\n",
    "  map_x = np.tile(np.arange(width), (height, 1))\n",
    "  map_y = np.swapaxes(np.tile(np.arange(height), (width, 1)), 0, 1)\n",
    "  map_xy = (flow + np.dstack((map_x, map_y))).astype('float32')\n",
    "  return cv2.remap(reference, map_xy, None, interpolation=cv2.INTER_LINEAR, borderMode=ofca_extension_mode)\n",
    "\n",
    "def get_flow(reference, target, l, w):\n",
    "  flow = cv2.calcOpticalFlowFarneback(prev=target, next=reference, flow=None, pyr_scale=0.5, levels=l, winsize=w, iterations=3, poly_n=5, poly_sigma=1.2, flags=0)\n",
    "  #flow = np.zeros((reference.shape[0], reference.shape[1], 2), dtype=np.float32)\n",
    "  return flow"
   ]
  },
  {
   "cell_type": "code",
   "execution_count": null,
   "metadata": {
    "id": "TM1LWlCd10M1"
   },
   "outputs": [],
   "source": [
    "def filter_over_Z(tomogram, kernel, l, w):\n",
    "  filtered_tomogram = np.zeros_like(tomogram).astype(np.float32)\n",
    "  shape_of_tomogram = np.shape(tomogram)\n",
    "  padded_tomogram = np.zeros(shape=(shape_of_tomogram[0] + kernel.size, shape_of_tomogram[1], shape_of_tomogram[2]))\n",
    "  padded_tomogram[kernel.size//2:shape_of_tomogram[0] + kernel.size//2, :, :] = tomogram\n",
    "  Z_dim = tomogram.shape[0]\n",
    "  for z in range(Z_dim):\n",
    "    tmp_slice = np.zeros_like(tomogram[z]).astype(np.float32)\n",
    "    for i in range(kernel.size):\n",
    "      if i != kernel.size//2:\n",
    "        flow = get_flow(padded_tomogram[z + i], tomogram[z], l, w)\n",
    "        #flow = get_flow(padded_tomogram[z + i - kernel.size//2], padded_tomogram[z - kernel.size//2], l, w)\n",
    "        #flow = get_flow(padded_tomogram[z - kernel.size//2], padded_tomogram[z + i - kernel.size//2], l, w)\n",
    "        #OF_compensated_slice = warp_slice(padded_tomogram[z + i - kernel.size//2], flow)\n",
    "        OF_compensated_slice = warp_slice(padded_tomogram[z + i], flow)\n",
    "        tmp_slice += OF_compensated_slice * kernel[i]\n",
    "      else:\n",
    "        # No OF is needed for this slice\n",
    "        #tmp_slice += tomogram[z - kernel.size//2, :, :] * kernel[kernel.size // 2]\n",
    "        tmp_slice += tomogram[z, :, :] * kernel[i]\n",
    "        #tmp_slice += padded_tomogram[z - kernel.size//2, :, :] * kernel[kernel.size // 2]\n",
    "    #filtered_tomogram[(z - kernel.size//2) % Z_dim, :, :] = tmp_slice\n",
    "    filtered_tomogram[z, :, :] = tmp_slice\n",
    "    print(z, end=' ', flush=True)\n",
    "  print()\n",
    "  return filtered_tomogram\n",
    "\n",
    "#filtered_tomogram_Z = filter_over_Z(tomogram[:,0:200,0:200], kernel, l, w)\n",
    "filtered_tomogram_Z = filter_over_Z(tomogram, kernel, l, w)"
   ]
  },
  {
   "cell_type": "code",
   "execution_count": null,
   "metadata": {
    "id": "Jgk_EDml8ku5"
   },
   "outputs": [],
   "source": [
    "def g(z=0):\n",
    "  #cv2_imshow(cv2.normalize(tomogram[z, :, :][0:200,0:200].astype(np.uint8), None, 0, 255, cv2.NORM_MINMAX))\n",
    "  #cv2_imshow(cv2.normalize(tomogram[z, :, :].astype(np.uint8), None, 0, 255, cv2.NORM_MINMAX))\n",
    "  cv2_imshow(cv2.normalize(tomogram[z, :, :], None, 0, 255, cv2.NORM_MINMAX))\n",
    "  cv2_imshow(cv2.normalize(filtered_tomogram_Z[z, :, :], None, 0, 255, cv2.NORM_MINMAX))\n",
    "\n",
    "interactive_plot = interactive(g, z=100)\n",
    "interactive_plot"
   ]
  },
  {
   "cell_type": "code",
   "execution_count": null,
   "metadata": {
    "id": "w3lHMWSp4EUp"
   },
   "outputs": [],
   "source": [
    "#with mrcfile.new(f'drive/Shareddrives/MissingWedge/{tomogram_name}_Z__sigma={sigma}__w={w}__l={l}.mrc', overwrite=True) as mrc:\n",
    "#  mrc.set_data(filtered_tomogram_Z.astype(np.float32))\n",
    "#  mrc.data"
   ]
  },
  {
   "cell_type": "code",
   "execution_count": null,
   "metadata": {
    "id": "EtnVzPSv4PFs"
   },
   "outputs": [],
   "source": [
    "#while True:pass"
   ]
  },
  {
   "cell_type": "code",
   "execution_count": null,
   "metadata": {
    "id": "EYtuQWdYXz_9"
   },
   "outputs": [],
   "source": [
    "def filter_over_Y(tomogram, kernel, l, w):\n",
    "  filtered_tomogram = np.zeros_like(tomogram).astype(np.float32)\n",
    "  shape_of_tomogram = np.shape(tomogram)\n",
    "  padded_tomogram = np.zeros(shape=(shape_of_tomogram[0], shape_of_tomogram[1] + kernel.size, shape_of_tomogram[2]))\n",
    "  padded_tomogram[:, kernel.size//2:shape_of_tomogram[1] + kernel.size//2, :] = tomogram\n",
    "  Y_dim = tomogram.shape[1]\n",
    "  for y in range(Y_dim):\n",
    "    tmp_slice = np.zeros_like(tomogram[:, y, :]).astype(np.float32)\n",
    "    for i in range(kernel.size):\n",
    "      if i != kernel.size//2:\n",
    "        flow = get_flow(padded_tomogram[:, y + i, :], tomogram[:, y, :], l, w)\n",
    "        OF_compensated_slice = warp_slice(padded_tomogram[:, y + i, :], flow)\n",
    "        tmp_slice += OF_compensated_slice * kernel[i]\n",
    "      else:\n",
    "        # No OF is needed for this slice\n",
    "        #tmp_slice += tomogram[:, y - kernel.size//2, :] * kernel[kernel.size // 2]\n",
    "        tmp_slice += tomogram[:, y, :] * kernel[i]\n",
    "    filtered_tomogram[:, y, :] = tmp_slice\n",
    "    print(y, end=' ', flush=True)\n",
    "  print()\n",
    "  return filtered_tomogram\n",
    "\n",
    "filtered_tomogram_ZY = filter_over_Y(filtered_tomogram_Z, kernel, l, w)"
   ]
  },
  {
   "cell_type": "code",
   "execution_count": null,
   "metadata": {
    "id": "kzDtxr7nJJwC"
   },
   "outputs": [],
   "source": [
    "def g(z=0):\n",
    "  cv2_imshow(cv2.normalize(tomogram[z, :, :].astype(np.uint8), None, 0, 255, cv2.NORM_MINMAX))\n",
    "  cv2_imshow(cv2.normalize(filtered_tomogram_ZY[z, :, :], None, 0, 255, cv2.NORM_MINMAX))\n",
    "\n",
    "interactive_plot = interactive(g, z=100)\n",
    "interactive_plot"
   ]
  },
  {
   "cell_type": "code",
   "execution_count": null,
   "metadata": {
    "id": "trYyyBahKWRz"
   },
   "outputs": [],
   "source": [
    "def filter_over_X(tomogram, kernel, l, w):\n",
    "  filtered_tomogram = np.zeros_like(tomogram).astype(np.float32)\n",
    "  shape_of_tomogram = np.shape(tomogram)\n",
    "  padded_tomogram = np.zeros(shape=(shape_of_tomogram[0], shape_of_tomogram[1], shape_of_tomogram[2] + kernel.size))\n",
    "  padded_tomogram[:, :, kernel.size//2:shape_of_tomogram[2] + kernel.size//2] = tomogram\n",
    "  X_dim = tomogram.shape[2]\n",
    "  for x in range(X_dim):\n",
    "    tmp_slice = np.zeros_like(tomogram[:, :, x]).astype(np.float32)\n",
    "    for i in range(kernel.size):\n",
    "      if i != kernel.size//2:\n",
    "        flow = get_flow(padded_tomogram[:, :, x + i], tomogram[:, :, x], l, w)\n",
    "        OF_compensated_slice = warp_slice(padded_tomogram[:, :, x + i], flow)\n",
    "        tmp_slice += OF_compensated_slice * kernel[i]\n",
    "      else:\n",
    "        # No OF is needed for this slice\n",
    "        #tmp_slice += tomogram[:, :, x - kernel.size//2] * kernel[kernel.size // 2]\n",
    "        tmp_slice += tomogram[:, :, x] * kernel[i]\n",
    "    filtered_tomogram[:, :, x] = tmp_slice\n",
    "    print(x, end=' ', flush=True)\n",
    "  print()\n",
    "  return filtered_tomogram\n",
    "\n",
    "filtered_tomogram_ZYX = filter_over_X(filtered_tomogram_ZY, kernel, l, w)"
   ]
  },
  {
   "cell_type": "code",
   "execution_count": null,
   "metadata": {
    "id": "36tFN3WUK1WB"
   },
   "outputs": [],
   "source": [
    "def g(z=0):\n",
    "  cv2_imshow(cv2.normalize(tomogram[z, :, :].astype(np.uint8), None, 0, 255, cv2.NORM_MINMAX))\n",
    "  cv2_imshow(cv2.normalize(filtered_tomogram_ZYX[z, :, :], None, 0, 255, cv2.NORM_MINMAX))\n",
    "\n",
    "interactive_plot = interactive(g, z=100)\n",
    "interactive_plot"
   ]
  },
  {
   "cell_type": "code",
   "execution_count": null,
   "metadata": {
    "id": "2Z2NYLUDK6L-"
   },
   "outputs": [],
   "source": [
    "output_file = f'drive/Shareddrives/TomogramDenoising/results/{tomogram_name}__sigma={sigma}__w={w}__l={l}.mrc'\n",
    "with mrcfile.new(output_file, overwrite=True) as mrc:\n",
    "  mrc.set_data(filtered_tomogram_ZYX.astype(np.float32))\n",
    "  mrc.data\n",
    "#with mrcfile.new(f'{tomogram_name}__sigma={sigma}__w={w}__l={l}.mrc', overwrite=True) as mrc:\n",
    "#  mrc.set_data(filtered_tomogram_ZYX.astype(np.float32))\n",
    "#  mrc.data"
   ]
  },
  {
   "cell_type": "code",
   "execution_count": null,
   "metadata": {
    "id": "Dgd7t-QiSnkm"
   },
   "outputs": [],
   "source": [
    "print(f\"written: \\\"{output_file}\\\"\")\n",
    "print(f\"time: {time.process_time()} seconds\")"
   ]
  },
  {
   "cell_type": "code",
   "execution_count": null,
   "metadata": {
    "id": "BUAIdWEAY0f2"
   },
   "outputs": [],
   "source": [
    "#while True:pass"
   ]
  }
 ],
 "metadata": {
  "colab": {
   "collapsed_sections": [],
   "name": "OF_gaussian_denoising.ipynb",
   "provenance": []
  },
  "kernelspec": {
   "display_name": "Python 3 (ipykernel)",
   "language": "python",
   "name": "python3"
  },
  "language_info": {
   "codemirror_mode": {
    "name": "ipython",
    "version": 3
   },
   "file_extension": ".py",
   "mimetype": "text/x-python",
   "name": "python",
   "nbconvert_exporter": "python",
   "pygments_lexer": "ipython3",
   "version": "3.10.4"
  }
 },
 "nbformat": 4,
 "nbformat_minor": 1
}
