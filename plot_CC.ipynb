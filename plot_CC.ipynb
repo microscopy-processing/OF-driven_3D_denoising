{
 "cells": [
  {
   "cell_type": "markdown",
   "id": "2a3863de",
   "metadata": {},
   "source": [
    "# Plot SSIM indexes"
   ]
  },
  {
   "cell_type": "code",
   "execution_count": null,
   "id": "42a3776b",
   "metadata": {},
   "outputs": [],
   "source": [
    "import pylab\n",
    "import matplotlib.pyplot as plt\n",
    "%matplotlib inline\n",
    "import numpy as np"
   ]
  },
  {
   "cell_type": "code",
   "execution_count": null,
   "id": "f6eb7ee2",
   "metadata": {},
   "outputs": [],
   "source": [
    "# Mount Google Drive.\n",
    "from google.colab import drive\n",
    "drive.mount('/content/drive')"
   ]
  },
  {
   "cell_type": "code",
   "execution_count": null,
   "id": "15144518",
   "metadata": {},
   "outputs": [],
   "source": [
    "!cp drive/Shareddrives/TomogramDenoising/results/correlation_coeffs.txt ."
   ]
  },
  {
   "cell_type": "markdown",
   "id": "fb286e1b",
   "metadata": {},
   "source": [
    "### Extraemos las sigmas"
   ]
  },
  {
   "cell_type": "code",
   "execution_count": null,
   "id": "c14290be",
   "metadata": {},
   "outputs": [],
   "source": [
    "!grep \"empiar10311_stack_crop\" correlation_coeffs.txt | grep \"classic\" | cut -f 2 | cut -f 2 -d \"=\" > sigmas.txt\n"
   ]
  },
  {
   "cell_type": "markdown",
   "id": "4ac7b12b",
   "metadata": {},
   "source": [
    "### Extraemos los CCs para el filtrado gaussiano normal"
   ]
  },
  {
   "cell_type": "code",
   "execution_count": null,
   "id": "683baf6f",
   "metadata": {},
   "outputs": [],
   "source": [
    "!grep \"empiar10311_stack_crop\" correlation_coeffs.txt  | grep \"classic\" | cut -f 3 | cut -f 2 -d \"=\" > CCs_classic.txt\n"
   ]
  },
  {
   "cell_type": "markdown",
   "id": "a0f5d65b",
   "metadata": {},
   "source": [
    "### Paste"
   ]
  },
  {
   "cell_type": "code",
   "execution_count": null,
   "id": "1f5a6ed2",
   "metadata": {},
   "outputs": [],
   "source": [
    "!paste sigmas.txt CCs_classic.txt > classic.txt"
   ]
  },
  {
   "cell_type": "markdown",
   "id": "342f0798",
   "metadata": {},
   "source": [
    "### Extraemos los CCs para el filtrado gaussiano guiado por el OF"
   ]
  },
  {
   "cell_type": "code",
   "execution_count": null,
   "id": "bb6e16ac",
   "metadata": {},
   "outputs": [],
   "source": [
    "!grep \"empiar10311_stack_crop\" correlation_coeffs.txt | grep \"w=5\" | grep \"l=3\" | cut -f 3 | cut -f 2 -d \"=\" > CCs_OF_driven.txt\n"
   ]
  },
  {
   "cell_type": "markdown",
   "id": "c2b42ed6",
   "metadata": {},
   "source": [
    "### Paste"
   ]
  },
  {
   "cell_type": "code",
   "execution_count": null,
   "id": "c55a453b",
   "metadata": {},
   "outputs": [],
   "source": [
    "!paste sigmas.txt CCs_OF_driven.txt > OF_driven.txt"
   ]
  },
  {
   "cell_type": "markdown",
   "id": "15729ee5",
   "metadata": {},
   "source": [
    "## Punto AND"
   ]
  },
  {
   "cell_type": "markdown",
   "id": "3bc2b47e",
   "metadata": {},
   "source": [
    "!grep \"empiar10311_stack_crop\" correlation_coeffs.txt | grep \"AND\" | cut -f 3 | cut -f 2 -d \"=\" >  _CC_AND.txt\n",
    "!cat _CC_AND.txt _CC_AND.txt _CC_AND.txt _CC_AND.txt > CCs_AND.txt"
   ]
  },
  {
   "cell_type": "markdown",
   "id": "cee35ece",
   "metadata": {},
   "source": [
    "!paste sigmas.txt CCs_AND.txt > AND.txt"
   ]
  },
  {
   "cell_type": "markdown",
   "id": "e4efaebd",
   "metadata": {},
   "source": [
    "## Read"
   ]
  },
  {
   "cell_type": "code",
   "execution_count": null,
   "id": "d09abaf0",
   "metadata": {},
   "outputs": [],
   "source": [
    "classic = []\n",
    "with open(\"classic.txt\") as f:\n",
    "    for line in f:\n",
    "        sigma, CC = line.split('\\t')\n",
    "        classic.append((float(sigma), float(CC)))\n",
    "print(classic)"
   ]
  },
  {
   "cell_type": "code",
   "execution_count": null,
   "id": "ce830311",
   "metadata": {},
   "outputs": [],
   "source": [
    "OF_driven = []\n",
    "with open(\"OF_driven.txt\") as f:\n",
    "    for line in f:\n",
    "        sigma, CC = line.split('\\t')\n",
    "        OF_driven.append((float(sigma), float(CC)))\n",
    "print(OF_driven)"
   ]
  },
  {
   "cell_type": "markdown",
   "id": "2c3f8509",
   "metadata": {},
   "source": [
    "AND = []\n",
    "with open(\"AND.txt\") as f:\n",
    "    for line in f:\n",
    "        sigma, CC = line.split('\\t')\n",
    "        AND.append((float(sigma), float(CC)))\n",
    "print(AND)"
   ]
  },
  {
   "cell_type": "code",
   "execution_count": null,
   "id": "f762fca1",
   "metadata": {},
   "outputs": [],
   "source": [
    "pylab.figure(dpi=150)\n",
    "pylab.plot(*zip(*classic), label=\"Standard Gaussian Denoising\")\n",
    "pylab.plot(*zip(*OF_driven), label=\"OF-driven Gaussian Denoising\")\n",
    "#pylab.plot(*zip(*AND), label=\"AND\")\n",
    "pylab.title(f\"EMPIAR10311\")\n",
    "pylab.xlabel(\"$\\sigma$\")\n",
    "pylab.ylabel(\"Correlation Coefficient\")\n",
    "pylab.xticks(np.arange(1, 2.6, step=0.5))\n",
    "pylab.ylim([0.5, 1])\n",
    "#pylab.xlim([0.9, 2.6])\n",
    "#pylab.legend(loc='best')\n",
    "pylab.legend(loc='lower left')\n",
    "pylab.savefig(\"empiar10311_stack_crop.pdf\")\n",
    "pylab.show()"
   ]
  },
  {
   "cell_type": "code",
   "execution_count": null,
   "id": "5b77d2af",
   "metadata": {},
   "outputs": [],
   "source": [
    "!cp empiar10311_stack_crop.pdf drive/Shareddrives/TomogramDenoising/results/"
   ]
  }
 ],
 "metadata": {
  "kernelspec": {
   "display_name": "Python 3 (ipykernel)",
   "language": "python",
   "name": "python3"
  },
  "language_info": {
   "codemirror_mode": {
    "name": "ipython",
    "version": 3
   },
   "file_extension": ".py",
   "mimetype": "text/x-python",
   "name": "python",
   "nbconvert_exporter": "python",
   "pygments_lexer": "ipython3",
   "version": "3.10.5"
  }
 },
 "nbformat": 4,
 "nbformat_minor": 5
}
