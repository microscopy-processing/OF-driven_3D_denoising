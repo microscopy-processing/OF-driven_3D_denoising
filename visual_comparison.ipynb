{
 "cells": [
  {
   "cell_type": "markdown",
   "metadata": {
    "id": "QqfKxC0KuCzK"
   },
   "source": [
    "# Visualizing a ROI of a collection of volumetric data\n",
    "\n",
    "Create a table of ROIs, where the sigma's are in the columns and the w's in the rows."
   ]
  },
  {
   "cell_type": "code",
   "execution_count": null,
   "metadata": {
    "id": "T1dAtBnCunOh"
   },
   "outputs": [],
   "source": [
    "# Configuration\n",
    "volume_filename_prefix = \"empiar10311_stack_crop\"\n",
    "input_format = \"mrc\"\n",
    "sigmas = [1.0, 1.5, 2.0, 2.5]\n",
    "ws = [2, 3, 5, 9, 17, 33, 65, 129]\n",
    "l = 3\n",
    "x_left, y_top, x_right, y_bottom = 400, 400, 656, 656\n",
    "slice_number = 50"
   ]
  },
  {
   "cell_type": "code",
   "execution_count": null,
   "metadata": {
    "id": "4Ybt_CUa1bAl"
   },
   "outputs": [],
   "source": [
    "# Mount Google Drive.\n",
    "from google.colab import drive\n",
    "drive.mount('/content/drive')"
   ]
  },
  {
   "cell_type": "code",
   "execution_count": null,
   "metadata": {
    "id": "IIUxh4uStrQJ"
   },
   "outputs": [],
   "source": [
    "import numpy as np\n",
    "import scipy.ndimage\n",
    "import matplotlib.pyplot as plt\n",
    "!pip install mrcfile\n",
    "import mrcfile\n",
    "import cv2\n",
    "from google.colab.patches import cv2_imshow\n",
    "import time\n",
    "import kernels\n",
    "import _3D_OF_denoising"
   ]
  },
  {
   "cell_type": "code",
   "execution_count": null,
   "metadata": {},
   "outputs": [],
   "source": [
    "for sigma in sigmas:\n",
    "  for w in ws:\n",
    "    volume_filename = f'drive/Shareddrives/TomogramDenoising/results/{volume_filename_prefix}__sigma={sigma}__w={w}__l={l}.{input_format}'\n",
    "    volume_MRC = mrcfile.open(volume_filename)\n",
    "    volume = volume_MRC.data\n",
    "    ROI = volume[slice_number, x_left:x_right, y_top:y_bottom]\n",
    "    #imgplot = plt.imshow(ROI)\n",
    "    cv2_imshow(ROI)\n",
    "    print(f\"displayed {volume_filename}\")"
   ]
  }
 ],
 "metadata": {
  "colab": {
   "collapsed_sections": [],
   "name": "OF_gaussian_denoising.ipynb",
   "provenance": []
  },
  "kernelspec": {
   "display_name": "Python 3 (ipykernel)",
   "language": "python",
   "name": "python3"
  },
  "language_info": {
   "codemirror_mode": {
    "name": "ipython",
    "version": 3
   },
   "file_extension": ".py",
   "mimetype": "text/x-python",
   "name": "python",
   "nbconvert_exporter": "python",
   "pygments_lexer": "ipython3",
   "version": "3.10.4"
  }
 },
 "nbformat": 4,
 "nbformat_minor": 1
}
