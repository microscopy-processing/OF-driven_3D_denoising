{
 "cells": [
  {
   "cell_type": "markdown",
   "id": "80d76f48",
   "metadata": {},
   "source": [
    "# Plot SSIM indexes"
   ]
  },
  {
   "cell_type": "code",
   "execution_count": null,
   "id": "e84edf41",
   "metadata": {},
   "outputs": [],
   "source": [
    "import pylab\n",
    "import matplotlib.pyplot as plt\n",
    "%matplotlib inline"
   ]
  },
  {
   "cell_type": "code",
   "execution_count": null,
   "id": "ebd93d46",
   "metadata": {},
   "outputs": [],
   "source": [
    "# Mount Google Drive.\n",
    "from google.colab import drive\n",
    "drive.mount('/content/drive')"
   ]
  },
  {
   "cell_type": "code",
   "execution_count": null,
   "id": "e0eb843d",
   "metadata": {},
   "outputs": [],
   "source": [
    "!cp drive/Shareddrives/TomogramDenoising/results/SSIM_indexes.txt ."
   ]
  },
  {
   "cell_type": "markdown",
   "id": "3c91c59e",
   "metadata": {},
   "source": [
    "### Extraemos las sigmas"
   ]
  },
  {
   "cell_type": "code",
   "execution_count": null,
   "id": "5e61a6c5",
   "metadata": {},
   "outputs": [],
   "source": [
    "!grep \"empiar10311_stack_crop\" SSIM_indexes.txt | grep \"classic\" > /tmp/1\n",
    "!cut -f 2 < /tmp/1 > /tmp/2\n",
    "!cut -f 2 -d \" \" < /tmp/2 > /tmp/3\n",
    "!cut -f 2 -d \"=\" < /tmp/3 > sigmas.txt"
   ]
  },
  {
   "cell_type": "markdown",
   "id": "d907198b",
   "metadata": {},
   "source": [
    "### Extraemos los SSIMs para el filtrado gaussiano normal"
   ]
  },
  {
   "cell_type": "code",
   "execution_count": null,
   "id": "e8eda8f6",
   "metadata": {},
   "outputs": [],
   "source": [
    "!grep \"empiar10311_stack_crop\" SSIM_indexes.txt  | grep \"classic\" > /tmp/1\n",
    "!cut -f 2 < /tmp/1 > /tmp/2\n",
    "!cut -f 3 -d \" \" < /tmp/2 > /tmp/3\n",
    "!cut -f 2 -d \"=\" < /tmp/3 > SSIMs_classic.txt"
   ]
  },
  {
   "cell_type": "markdown",
   "id": "d8945f6e",
   "metadata": {},
   "source": [
    "### Paste"
   ]
  },
  {
   "cell_type": "code",
   "execution_count": null,
   "id": "e64d16c5",
   "metadata": {},
   "outputs": [],
   "source": [
    "!paste sigmas.txt SSIMs_classic.txt > classic.txt"
   ]
  },
  {
   "cell_type": "markdown",
   "id": "75d0f53b",
   "metadata": {},
   "source": [
    "### Extraemos los SSIMs para el filtrado gaussiano guiado por el OF"
   ]
  },
  {
   "cell_type": "code",
   "execution_count": null,
   "id": "d10363cd",
   "metadata": {},
   "outputs": [],
   "source": [
    "!grep \"empiar10311_stack_crop\" SSIM_indexes.txt | grep \"l=3\" > /tmp/1\n",
    "!cut -f 2 < /tmp/1 > /tmp/2\n",
    "!cut -f 3 -d \" \" < /tmp/2 > /tmp/3\n",
    "!cut -f 2 -d \"=\" < /tmp/3 > SSIMs_OF_driven.txt"
   ]
  },
  {
   "cell_type": "markdown",
   "id": "14331588",
   "metadata": {},
   "source": [
    "### Paste"
   ]
  },
  {
   "cell_type": "code",
   "execution_count": null,
   "id": "0f62c207",
   "metadata": {},
   "outputs": [],
   "source": [
    "!paste sigmas.txt SSIMs_OF_driven.txt > OF_driven.txt"
   ]
  },
  {
   "cell_type": "code",
   "execution_count": null,
   "id": "889341f8",
   "metadata": {},
   "outputs": [],
   "source": [
    "classic = []\n",
    "with open(\"classic.txt\") as f:\n",
    "    for line in f:\n",
    "        sigma, SSIM = line.split('\\t')\n",
    "        classic.append((float(sigma), float(SSIM)))\n",
    "print(classic)"
   ]
  },
  {
   "cell_type": "code",
   "execution_count": null,
   "id": "e7f9d122",
   "metadata": {},
   "outputs": [],
   "source": [
    "OF_driven = []\n",
    "with open(\"OF_driven.txt\") as f:\n",
    "    for line in f:\n",
    "        sigma, SSIM = line.split('\\t')\n",
    "        OF_driven.append((float(sigma), float(SSIM)))\n",
    "print(OF_driven)"
   ]
  },
  {
   "cell_type": "code",
   "execution_count": null,
   "id": "25d26bfd",
   "metadata": {},
   "outputs": [],
   "source": [
    "pylab.figure(dpi=150)\n",
    "pylab.plot(classic, label=\"Standard Gaussian Denoising\")\n",
    "pylab.plot(OF_driven, label=\"OF-driven Gaussian Denoising\")\n",
    "pylab.title(f\"EMPIAR10311\")\n",
    "pylab.xlabel(\"$\\sigma$\")\n",
    "pylab.ylabel(\"SSIM\")\n",
    "pylab.legend(loc='best')\n",
    "pylab.savefig(\"empiar10311_stack_crop.pdf\")\n",
    "pylab.show()\n"
   ]
  }
 ],
 "metadata": {
  "kernelspec": {
   "display_name": "Python 3 (ipykernel)",
   "language": "python",
   "name": "python3"
  },
  "language_info": {
   "codemirror_mode": {
    "name": "ipython",
    "version": 3
   },
   "file_extension": ".py",
   "mimetype": "text/x-python",
   "name": "python",
   "nbconvert_exporter": "python",
   "pygments_lexer": "ipython3",
   "version": "3.10.5"
  }
 },
 "nbformat": 4,
 "nbformat_minor": 5
}
