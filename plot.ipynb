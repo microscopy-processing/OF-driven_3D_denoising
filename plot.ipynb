{
 "cells": [
  {
   "cell_type": "markdown",
   "id": "eeb796a1",
   "metadata": {},
   "source": [
    "# OF-based Gaussian Denoising VS Gaussian Denoising"
   ]
  },
  {
   "cell_type": "code",
   "execution_count": null,
   "id": "22ad77b5",
   "metadata": {},
   "outputs": [],
   "source": [
    "import pylab\n",
    "import matplotlib.pyplot as plt\n",
    "%matplotlib inline"
   ]
  },
  {
   "cell_type": "code",
   "execution_count": null,
   "id": "5629ab60",
   "metadata": {},
   "outputs": [],
   "source": [
    "# Mount Google Drive.\n",
    "from google.colab import drive\n",
    "drive.mount('/content/drive')"
   ]
  },
  {
   "cell_type": "code",
   "execution_count": null,
   "id": "d440bea7",
   "metadata": {},
   "outputs": [],
   "source": [
    "!cp drive/Shareddrives/TomogramDenoising/results/SSIM_indexes.txt .\n",
    "!grep \"empiar10311_stack_crop\" > /tmp/1\n",
    "!cut "
   ]
  },
  {
   "cell_type": "code",
   "execution_count": null,
   "id": "8416bca1",
   "metadata": {},
   "outputs": [],
   "source": [
    "pylab.figure(dpi=150)\n"
   ]
  }
 ],
 "metadata": {
  "kernelspec": {
   "display_name": "Python 3 (ipykernel)",
   "language": "python",
   "name": "python3"
  },
  "language_info": {
   "codemirror_mode": {
    "name": "ipython",
    "version": 3
   },
   "file_extension": ".py",
   "mimetype": "text/x-python",
   "name": "python",
   "nbconvert_exporter": "python",
   "pygments_lexer": "ipython3",
   "version": "3.10.5"
  }
 },
 "nbformat": 4,
 "nbformat_minor": 5
}
