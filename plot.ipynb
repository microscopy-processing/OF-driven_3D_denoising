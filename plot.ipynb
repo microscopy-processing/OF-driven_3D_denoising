{
 "cells": [
  {
   "cell_type": "markdown",
   "id": "f6a1475c",
   "metadata": {},
   "source": [
    "# Plot SSIM indexes"
   ]
  },
  {
   "cell_type": "code",
   "execution_count": null,
   "id": "b8a11a8c",
   "metadata": {},
   "outputs": [],
   "source": [
    "import pylab\n",
    "import matplotlib.pyplot as plt\n",
    "%matplotlib inline"
   ]
  },
  {
   "cell_type": "code",
   "execution_count": null,
   "id": "156a2a14",
   "metadata": {},
   "outputs": [],
   "source": [
    "# Mount Google Drive.\n",
    "from google.colab import drive\n",
    "drive.mount('/content/drive')"
   ]
  },
  {
   "cell_type": "code",
   "execution_count": null,
   "id": "918c99f4",
   "metadata": {},
   "outputs": [],
   "source": [
    "!cp drive/Shareddrives/TomogramDenoising/results/SSIM_indexes.txt ."
   ]
  },
  {
   "cell_type": "markdown",
   "id": "0a07b362",
   "metadata": {},
   "source": [
    "### Extraemos las sigmas"
   ]
  },
  {
   "cell_type": "code",
   "execution_count": null,
   "id": "9a36047a",
   "metadata": {},
   "outputs": [],
   "source": [
    "!grep \"empiar10311_stack_crop\" SSIM_indexes.txt | grep \"classic\" > /tmp/1\n",
    "!cut -f 2 < /tmp/1 > /tmp/2\n",
    "!cut -f 2 -d \" \" < /tmp/2 > /tmp/3\n",
    "!cut -f 2 -d \"=\" < /tmp/3 > sigmas.txt"
   ]
  },
  {
   "cell_type": "markdown",
   "id": "a63817d8",
   "metadata": {},
   "source": [
    "### Extraemos los SSIMs para el filtrado gaussiano normal"
   ]
  },
  {
   "cell_type": "code",
   "execution_count": null,
   "id": "f041465e",
   "metadata": {},
   "outputs": [],
   "source": [
    "!grep \"empiar10311_stack_crop\" SSIM_indexes.txt  | grep \"classic\" > /tmp/1\n",
    "!cut -f 2 < /tmp/1 > /tmp/2\n",
    "!cut -f 2 -d \" \" < /tmp/2 > /tmp/3\n",
    "!cut -f 2 -d \"=\" < /tmp/3 > SSIMs_classic.txt"
   ]
  },
  {
   "cell_type": "markdown",
   "id": "06e153ef",
   "metadata": {},
   "source": [
    "### Paste"
   ]
  },
  {
   "cell_type": "code",
   "execution_count": null,
   "id": "e884d20b",
   "metadata": {},
   "outputs": [],
   "source": [
    "!paste sigmas.txt SSIMs_classic.txt > classic.txt"
   ]
  },
  {
   "cell_type": "markdown",
   "id": "29a6b644",
   "metadata": {},
   "source": [
    "### Extraemos los SSIMs para el filtrado gaussiano guiado por el OF"
   ]
  },
  {
   "cell_type": "code",
   "execution_count": null,
   "id": "316a3c21",
   "metadata": {},
   "outputs": [],
   "source": [
    "!grep \"empiar10311_stack_crop\" SSIM_indexes.txt | grep \"l=3\" > /tmp/1\n",
    "!cut -f 2 < /tmp/1 > /tmp/2\n",
    "!cut -f 3 -d \" \" < /tmp/2 > /tmp/3\n",
    "!cut -f 2 -d \"=\" < /tmp/3 > SSIMs_OF_driven.txt"
   ]
  },
  {
   "cell_type": "markdown",
   "id": "329d7d13",
   "metadata": {},
   "source": [
    "### Paste"
   ]
  },
  {
   "cell_type": "code",
   "execution_count": null,
   "id": "d2c4c28f",
   "metadata": {},
   "outputs": [],
   "source": [
    "!paste sigmas.txt SSIMs_OF_driven.txt > OF_driven.txt"
   ]
  },
  {
   "cell_type": "code",
   "execution_count": null,
   "id": "d2a4aa68",
   "metadata": {},
   "outputs": [],
   "source": [
    "classic = []\n",
    "with open(\"classic.txt\") as f:\n",
    "    for line in f:\n",
    "        sigma, SSIM = line.split('\\t')\n",
    "        classic.append((sigma, SSIM))\n",
    "print(classic)"
   ]
  },
  {
   "cell_type": "code",
   "execution_count": null,
   "id": "412645cd",
   "metadata": {},
   "outputs": [],
   "source": [
    "OF_driven = []\n",
    "with open(\"OF_driven.txt\") as f:\n",
    "    for line in f:\n",
    "        sigma, SSIM = line.split('\\t')\n",
    "        OF_driven.append((sigma, SSIM))\n",
    "print(OF_driven)"
   ]
  },
  {
   "cell_type": "code",
   "execution_count": null,
   "id": "9f2f066b",
   "metadata": {},
   "outputs": [],
   "source": [
    "pylab.figure(dpi=150)\n",
    "pylab.plot(classic, label=\"Standard Gaussian Denoising\")\n",
    "pylab.plot(OF_driven, label=\"OF-driven Gaussian Denoising\")\n",
    "pylab.title(f\"EMPIAR10311\")\n",
    "pylab.xlabel(\"$\\sigma$\")\n",
    "pylab.ylabel(\"SSIM\")\n",
    "pylab.legend(loc='best')\n",
    "pylab.show()\n",
    "pylab.save(\"empiar10311_stack_crop.pdf\")"
   ]
  }
 ],
 "metadata": {
  "kernelspec": {
   "display_name": "Python 3 (ipykernel)",
   "language": "python",
   "name": "python3"
  },
  "language_info": {
   "codemirror_mode": {
    "name": "ipython",
    "version": 3
   },
   "file_extension": ".py",
   "mimetype": "text/x-python",
   "name": "python",
   "nbconvert_exporter": "python",
   "pygments_lexer": "ipython3",
   "version": "3.10.5"
  }
 },
 "nbformat": 4,
 "nbformat_minor": 5
}
