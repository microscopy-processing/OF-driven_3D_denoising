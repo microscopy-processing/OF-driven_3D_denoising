{
 "cells": [
  {
   "cell_type": "markdown",
   "id": "1053568c",
   "metadata": {},
   "source": [
    "# Plot SSIM indexes"
   ]
  },
  {
   "cell_type": "code",
   "execution_count": null,
   "id": "0459450f",
   "metadata": {},
   "outputs": [],
   "source": [
    "import pylab\n",
    "import matplotlib.pyplot as plt\n",
    "%matplotlib inline"
   ]
  },
  {
   "cell_type": "code",
   "execution_count": null,
   "id": "886dbf49",
   "metadata": {},
   "outputs": [],
   "source": [
    "# Mount Google Drive.\n",
    "from google.colab import drive\n",
    "drive.mount('/content/drive')"
   ]
  },
  {
   "cell_type": "code",
   "execution_count": null,
   "id": "d010f15d",
   "metadata": {},
   "outputs": [],
   "source": [
    "!cp drive/Shareddrives/TomogramDenoising/results/SSIM_indexes.txt ."
   ]
  },
  {
   "cell_type": "markdown",
   "id": "ea1999bd",
   "metadata": {},
   "source": [
    "### Extraemos las sigmas"
   ]
  },
  {
   "cell_type": "code",
   "execution_count": null,
   "id": "e2f09273",
   "metadata": {},
   "outputs": [],
   "source": [
    "!grep \"tomograms/empiar10311_stack_crop\" SSIM_indexes.txt > /tmp/1\n",
    "!cut -f 2 < /tmp/1 > /tmp/2\n",
    "!cut -f 2 -d \" \" < /tmp/2 > /tmp/3\n",
    "!cut -f 2 -d \"=\" < /tmp/3 > sigmas.txt"
   ]
  },
  {
   "cell_type": "markdown",
   "id": "c5513440",
   "metadata": {},
   "source": [
    "### Extraemos los SSIMs para el filtrado gaussiano normal"
   ]
  },
  {
   "cell_type": "code",
   "execution_count": null,
   "id": "76a56312",
   "metadata": {},
   "outputs": [],
   "source": [
    "!grep \"tomograms/empiar10311_stack_crop\" SSIM_indexes.txt > /tmp/1\n",
    "!cut -f 2 < /tmp/1 > /tmp/2\n",
    "!cut -f 2 -d \" \" < /tmp/2 > /tmp/3\n",
    "!cut -f 2 -d \"=\" < /tmp/3 > SSIMs_classic.txt"
   ]
  },
  {
   "cell_type": "markdown",
   "id": "ad636122",
   "metadata": {},
   "source": [
    "### Paste"
   ]
  },
  {
   "cell_type": "code",
   "execution_count": null,
   "id": "8a77267d",
   "metadata": {},
   "outputs": [],
   "source": [
    "!paste sigmas.txt SSIMs_classic.txt > classic.txt"
   ]
  },
  {
   "cell_type": "markdown",
   "id": "6e9b0ad0",
   "metadata": {},
   "source": [
    "### Extraemos los SSIMs para el filtrado gaussiano guiado por el OF"
   ]
  },
  {
   "cell_type": "code",
   "execution_count": null,
   "id": "0a908f98",
   "metadata": {},
   "outputs": [],
   "source": [
    "!grep \"results/empiar10311_stack_crop\" SSIM_indexes.txt > /tmp/1\n",
    "!cut -f 2 < /tmp/1 > /tmp/2\n",
    "!cut -f 3 -d \" \" < /tmp/2 > /tmp/3\n",
    "!cut -f 2 -d \"=\" < /tmp/3 > SSIMs_OF_driven.txt"
   ]
  },
  {
   "cell_type": "markdown",
   "id": "a1606387",
   "metadata": {},
   "source": [
    "### Paste"
   ]
  },
  {
   "cell_type": "code",
   "execution_count": null,
   "id": "58538742",
   "metadata": {},
   "outputs": [],
   "source": [
    "!paste sigmas.txt SSIMs_OF_driven.txt > OF_driven.txt"
   ]
  },
  {
   "cell_type": "code",
   "execution_count": null,
   "id": "bfb6e451",
   "metadata": {},
   "outputs": [],
   "source": [
    "classic = []\n",
    "with open(\"classic.txt\") as f:\n",
    "    for line in f:\n",
    "        sigma, SSIM = line.split('\\t')\n",
    "        classic.append((sigma, SSIM))\n",
    "print(classic)"
   ]
  },
  {
   "cell_type": "code",
   "execution_count": null,
   "id": "2a0e4364",
   "metadata": {},
   "outputs": [],
   "source": [
    "OF_driven = []\n",
    "with open(\"OF_driven.txt\") as f:\n",
    "    for line in f:\n",
    "        sigma, SSIM = line.split('\\t')\n",
    "        OF_driven.append((sigma, SSIM))\n",
    "print(OF_driven)"
   ]
  },
  {
   "cell_type": "code",
   "execution_count": null,
   "id": "e57a73e2",
   "metadata": {},
   "outputs": [],
   "source": [
    "pylab.figure(dpi=150)\n",
    "pylab.plot(classic, label=\"Standard Gaussian Denoising\")\n",
    "pylab.plot(OF_driven, label=\"OF-driven Gaussian Denoising\")\n",
    "pylab.title(f\"EMPIAR10311\")\n",
    "pylab.xlabel(\"$\\sigma$\")\n",
    "pylab.ylabel(\"SSIM\")\n",
    "pylab.legend(loc='best')\n",
    "pylab.show()\n",
    "pylab.save(\"empiar10311_stack_crop.pdf\")"
   ]
  }
 ],
 "metadata": {
  "kernelspec": {
   "display_name": "Python 3 (ipykernel)",
   "language": "python",
   "name": "python3"
  },
  "language_info": {
   "codemirror_mode": {
    "name": "ipython",
    "version": 3
   },
   "file_extension": ".py",
   "mimetype": "text/x-python",
   "name": "python",
   "nbconvert_exporter": "python",
   "pygments_lexer": "ipython3",
   "version": "3.10.5"
  }
 },
 "nbformat": 4,
 "nbformat_minor": 5
}
