{
 "cells": [
  {
   "cell_type": "markdown",
   "id": "17d024c4",
   "metadata": {},
   "source": [
    "# OF-based Gaussian Denoising VS Gaussian Denoising"
   ]
  },
  {
   "cell_type": "code",
   "execution_count": null,
   "id": "3f830d0f",
   "metadata": {},
   "outputs": [],
   "source": [
    "import pylab\n",
    "import matplotlib.pyplot as plt\n",
    "%matplotlib inline"
   ]
  },
  {
   "cell_type": "code",
   "execution_count": null,
   "id": "4e955ab2",
   "metadata": {},
   "outputs": [],
   "source": [
    "# Mount Google Drive.\n",
    "from google.colab import drive\n",
    "drive.mount('/content/drive')"
   ]
  },
  {
   "cell_type": "code",
   "execution_count": null,
   "id": "e7b67afa",
   "metadata": {},
   "outputs": [],
   "source": [
    "!cp drive/Shareddrives/TomogramDenoising/results/SSIM_indexes.txt .\n",
    "!grep \"empiar10311_stack_crop\" > /tmp/1\n",
    "!cut "
   ]
  },
  {
   "cell_type": "code",
   "execution_count": null,
   "id": "06dda848",
   "metadata": {},
   "outputs": [],
   "source": [
    "pylab.figure(dpi=150)\n"
   ]
  }
 ],
 "metadata": {
  "kernelspec": {
   "display_name": "Python 3 (ipykernel)",
   "language": "python",
   "name": "python3"
  },
  "language_info": {
   "codemirror_mode": {
    "name": "ipython",
    "version": 3
   },
   "file_extension": ".py",
   "mimetype": "text/x-python",
   "name": "python",
   "nbconvert_exporter": "python",
   "pygments_lexer": "ipython3",
   "version": "3.10.5"
  }
 },
 "nbformat": 4,
 "nbformat_minor": 5
}
